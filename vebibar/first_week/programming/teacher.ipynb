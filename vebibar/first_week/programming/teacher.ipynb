{
  "nbformat": 4,
  "nbformat_minor": 0,
  "metadata": {
    "colab": {
      "name": "ds19-crash-course.ipynb",
      "provenance": [],
      "collapsed_sections": []
    },
    "kernelspec": {
      "name": "python3",
      "display_name": "Python 3"
    },
    "language_info": {
      "name": "python"
    }
  },
  "cells": [
    {
      "cell_type": "markdown",
      "metadata": {
        "id": "QrOIU5FDAMH9"
      },
      "source": [
        "Тут еще мой тг канал https://t.me/mikhaylovgleb"
      ]
    },
    {
      "cell_type": "markdown",
      "metadata": {
        "id": "yR0Cq5C5Iunz"
      },
      "source": [
        "https://drive.google.com/file/d/1l4HUk-ZLF_xkFT8tEVQtOWWQGFW3QzK5/view?usp=sharing"
      ]
    },
    {
      "cell_type": "code",
      "metadata": {
        "colab": {
          "base_uri": "https://localhost:8080/"
        },
        "id": "OOaAH7HdJOvB",
        "outputId": "f04bab31-834a-44e2-e5c8-f47407fdb85f"
      },
      "source": [
        "! gdown --id 1l4HUk-ZLF_xkFT8tEVQtOWWQGFW3QzK5"
      ],
      "execution_count": 1,
      "outputs": [
        {
          "output_type": "stream",
          "text": [
            "Downloading...\n",
            "From: https://drive.google.com/uc?id=1l4HUk-ZLF_xkFT8tEVQtOWWQGFW3QzK5\n",
            "To: /content/bank-data-crash-course.csv\n",
            "5.13MB [00:00, 16.3MB/s]\n"
          ],
          "name": "stdout"
        }
      ]
    },
    {
      "cell_type": "markdown",
      "metadata": {
        "id": "eYJsnvOJJTyC"
      },
      "source": [
        "Задание\n",
        "Вам предлагается набор данных, содержащий следующие переменные\n",
        "Переменные, характеризующие кредитную историю клиента\n",
        "closed_cred_sum - сумма, которую клиент выплатил по ранее взятым и закрытым\n",
        "кредитам  \n",
        "closed_creds - количество закрытых кредитов  \n",
        "active_cred_sum_overdue - суммарная задолженность по активным кредитам  \n",
        "active_cred_sum - сумма всех активных кредитов  \n",
        "active_cred_day_overdue - суммарная просрочка в днях по всем активным кредитам  \n",
        "active_cred_max_overdue - максимальная сумма просроченной задолженности по\n",
        "активным кредитам  \n",
        "Переменные характеризующие клиента  \n",
        "age - возраст  \n",
        "gender - пол  \n",
        "region - регион  \n",
        "month_income - ежемесячный доход  \n",
        "Переменные, характеризующие кредит, по которому нужно сделать\n",
        "прогноз  \n",
        "first_loan - сумма, которую клиент хочет получить в кредит (из заявки)  \n",
        "first_days_quant - срок, на которую клиент хочет взять кредит  \n",
        "loan_cost_all - одобренная клиенту сумма кредита  \n",
        "order_date - дата подачи заявки на получение кредита  \n",
        "cost_all - сумма всех выплат по одобренному кредиту  \n",
        "order_id - id заявки  \n",
        "client_id - id клиента  \n",
        "Целевая переменная:  \n",
        "expert - решение, которое принято по заявке (0 - одобрено, 1 - отклонено)  \n",
        "Необходимо на основе предоставленных данных построить модель для предсказания\n",
        "целевой переменной. Сделать описание проделанных шагов  \n",
        "● Анализ данных  \n",
        "● Фильтрация  \n",
        "● Преобразование переменных  \n",
        "● Моделирование  \n",
        "● Оценка качества модели  \n",
        "Обоснование выбранной метрики качества.  "
      ]
    },
    {
      "cell_type": "code",
      "metadata": {
        "id": "TMlODx0TNStd"
      },
      "source": [
        "import pandas as pd\n",
        "import numpy as np"
      ],
      "execution_count": 2,
      "outputs": []
    },
    {
      "cell_type": "code",
      "metadata": {
        "id": "ZMCiNqGamQez"
      },
      "source": [
        "df = pd.read_csv('/content/bank-data-crash-course.csv')"
      ],
      "execution_count": 5,
      "outputs": []
    },
    {
      "cell_type": "code",
      "metadata": {
        "id": "MPKESxS1nYOK"
      },
      "source": [
        "snakeCase"
      ],
      "execution_count": null,
      "outputs": []
    },
    {
      "cell_type": "code",
      "metadata": {
        "colab": {
          "base_uri": "https://localhost:8080/",
          "height": 640
        },
        "id": "TayUbeFMmW3S",
        "outputId": "50f9f77c-a263-4b15-d0c6-4fc787500295"
      },
      "source": [
        "df"
      ],
      "execution_count": 6,
      "outputs": [
        {
          "output_type": "execute_result",
          "data": {
            "text/html": [
              "<div>\n",
              "<style scoped>\n",
              "    .dataframe tbody tr th:only-of-type {\n",
              "        vertical-align: middle;\n",
              "    }\n",
              "\n",
              "    .dataframe tbody tr th {\n",
              "        vertical-align: top;\n",
              "    }\n",
              "\n",
              "    .dataframe thead th {\n",
              "        text-align: right;\n",
              "    }\n",
              "</style>\n",
              "<table border=\"1\" class=\"dataframe\">\n",
              "  <thead>\n",
              "    <tr style=\"text-align: right;\">\n",
              "      <th></th>\n",
              "      <th>Unnamed: 0</th>\n",
              "      <th>Closed Cred Sum</th>\n",
              "      <th>Closed Creds</th>\n",
              "      <th>Active Cred Sum Overdue</th>\n",
              "      <th>Active Cred Sum</th>\n",
              "      <th>Active Cred Day Overdue</th>\n",
              "      <th>Active Cred Max Overdue</th>\n",
              "      <th>Age</th>\n",
              "      <th>Gender</th>\n",
              "      <th>Region</th>\n",
              "      <th>First Loan</th>\n",
              "      <th>Loan Cost All</th>\n",
              "      <th>First Days Quant</th>\n",
              "      <th>Month Income</th>\n",
              "      <th>Order Date</th>\n",
              "      <th>Cost All</th>\n",
              "      <th>Order Id</th>\n",
              "      <th>Client Id</th>\n",
              "      <th>Expert</th>\n",
              "    </tr>\n",
              "  </thead>\n",
              "  <tbody>\n",
              "    <tr>\n",
              "      <th>0</th>\n",
              "      <td>0</td>\n",
              "      <td>143822.00</td>\n",
              "      <td>22</td>\n",
              "      <td>104.12</td>\n",
              "      <td>130068.80</td>\n",
              "      <td>8</td>\n",
              "      <td>756.09</td>\n",
              "      <td>31</td>\n",
              "      <td>0</td>\n",
              "      <td>36.0</td>\n",
              "      <td>10000.0</td>\n",
              "      <td>10000</td>\n",
              "      <td>196</td>\n",
              "      <td>NaN</td>\n",
              "      <td>2017-07-23</td>\n",
              "      <td>0.0</td>\n",
              "      <td>728319</td>\n",
              "      <td>320464</td>\n",
              "      <td>1</td>\n",
              "    </tr>\n",
              "    <tr>\n",
              "      <th>1</th>\n",
              "      <td>1</td>\n",
              "      <td>0.00</td>\n",
              "      <td>0</td>\n",
              "      <td>38151.93</td>\n",
              "      <td>46230.00</td>\n",
              "      <td>1492</td>\n",
              "      <td>38151.93</td>\n",
              "      <td>51</td>\n",
              "      <td>0</td>\n",
              "      <td>93.0</td>\n",
              "      <td>10000.0</td>\n",
              "      <td>10000</td>\n",
              "      <td>17</td>\n",
              "      <td>20000.0</td>\n",
              "      <td>2017-07-23</td>\n",
              "      <td>0.0</td>\n",
              "      <td>728321</td>\n",
              "      <td>320466</td>\n",
              "      <td>1</td>\n",
              "    </tr>\n",
              "    <tr>\n",
              "      <th>2</th>\n",
              "      <td>2</td>\n",
              "      <td>51356.00</td>\n",
              "      <td>2</td>\n",
              "      <td>3000.00</td>\n",
              "      <td>3000.00</td>\n",
              "      <td>8</td>\n",
              "      <td>3000.00</td>\n",
              "      <td>28</td>\n",
              "      <td>1</td>\n",
              "      <td>3.0</td>\n",
              "      <td>10000.0</td>\n",
              "      <td>10000</td>\n",
              "      <td>84</td>\n",
              "      <td>NaN</td>\n",
              "      <td>2017-07-23</td>\n",
              "      <td>0.0</td>\n",
              "      <td>728323</td>\n",
              "      <td>320467</td>\n",
              "      <td>1</td>\n",
              "    </tr>\n",
              "    <tr>\n",
              "      <th>3</th>\n",
              "      <td>3</td>\n",
              "      <td>0.00</td>\n",
              "      <td>0</td>\n",
              "      <td>22784.19</td>\n",
              "      <td>32103.52</td>\n",
              "      <td>913</td>\n",
              "      <td>22784.19</td>\n",
              "      <td>28</td>\n",
              "      <td>0</td>\n",
              "      <td>52.0</td>\n",
              "      <td>10000.0</td>\n",
              "      <td>10000</td>\n",
              "      <td>7</td>\n",
              "      <td>NaN</td>\n",
              "      <td>2017-07-23</td>\n",
              "      <td>0.0</td>\n",
              "      <td>728447</td>\n",
              "      <td>320533</td>\n",
              "      <td>1</td>\n",
              "    </tr>\n",
              "    <tr>\n",
              "      <th>4</th>\n",
              "      <td>4</td>\n",
              "      <td>12298.00</td>\n",
              "      <td>1</td>\n",
              "      <td>4942.95</td>\n",
              "      <td>4950.00</td>\n",
              "      <td>2883</td>\n",
              "      <td>4942.95</td>\n",
              "      <td>31</td>\n",
              "      <td>0</td>\n",
              "      <td>47.0</td>\n",
              "      <td>5000.0</td>\n",
              "      <td>5000</td>\n",
              "      <td>20</td>\n",
              "      <td>NaN</td>\n",
              "      <td>2017-07-23</td>\n",
              "      <td>0.0</td>\n",
              "      <td>728421</td>\n",
              "      <td>298598</td>\n",
              "      <td>1</td>\n",
              "    </tr>\n",
              "    <tr>\n",
              "      <th>...</th>\n",
              "      <td>...</td>\n",
              "      <td>...</td>\n",
              "      <td>...</td>\n",
              "      <td>...</td>\n",
              "      <td>...</td>\n",
              "      <td>...</td>\n",
              "      <td>...</td>\n",
              "      <td>...</td>\n",
              "      <td>...</td>\n",
              "      <td>...</td>\n",
              "      <td>...</td>\n",
              "      <td>...</td>\n",
              "      <td>...</td>\n",
              "      <td>...</td>\n",
              "      <td>...</td>\n",
              "      <td>...</td>\n",
              "      <td>...</td>\n",
              "      <td>...</td>\n",
              "      <td>...</td>\n",
              "    </tr>\n",
              "    <tr>\n",
              "      <th>49996</th>\n",
              "      <td>49996</td>\n",
              "      <td>0.00</td>\n",
              "      <td>0</td>\n",
              "      <td>74662.61</td>\n",
              "      <td>79662.61</td>\n",
              "      <td>2593</td>\n",
              "      <td>42204.55</td>\n",
              "      <td>27</td>\n",
              "      <td>1</td>\n",
              "      <td>NaN</td>\n",
              "      <td>4000.0</td>\n",
              "      <td>4000</td>\n",
              "      <td>20</td>\n",
              "      <td>NaN</td>\n",
              "      <td>2017-08-13</td>\n",
              "      <td>0.0</td>\n",
              "      <td>759472</td>\n",
              "      <td>96091</td>\n",
              "      <td>1</td>\n",
              "    </tr>\n",
              "    <tr>\n",
              "      <th>49997</th>\n",
              "      <td>49997</td>\n",
              "      <td>21653.49</td>\n",
              "      <td>2</td>\n",
              "      <td>0.00</td>\n",
              "      <td>0.00</td>\n",
              "      <td>0</td>\n",
              "      <td>0.00</td>\n",
              "      <td>28</td>\n",
              "      <td>0</td>\n",
              "      <td>75.0</td>\n",
              "      <td>2000.0</td>\n",
              "      <td>2000</td>\n",
              "      <td>10</td>\n",
              "      <td>20000.0</td>\n",
              "      <td>2017-08-13</td>\n",
              "      <td>0.0</td>\n",
              "      <td>759475</td>\n",
              "      <td>338240</td>\n",
              "      <td>1</td>\n",
              "    </tr>\n",
              "    <tr>\n",
              "      <th>49998</th>\n",
              "      <td>49998</td>\n",
              "      <td>0.00</td>\n",
              "      <td>0</td>\n",
              "      <td>0.00</td>\n",
              "      <td>1000.00</td>\n",
              "      <td>0</td>\n",
              "      <td>941.00</td>\n",
              "      <td>22</td>\n",
              "      <td>0</td>\n",
              "      <td>NaN</td>\n",
              "      <td>10000.0</td>\n",
              "      <td>10000</td>\n",
              "      <td>20</td>\n",
              "      <td>35000.0</td>\n",
              "      <td>2017-08-13</td>\n",
              "      <td>0.0</td>\n",
              "      <td>759485</td>\n",
              "      <td>338246</td>\n",
              "      <td>1</td>\n",
              "    </tr>\n",
              "    <tr>\n",
              "      <th>49999</th>\n",
              "      <td>49999</td>\n",
              "      <td>0.00</td>\n",
              "      <td>0</td>\n",
              "      <td>0.00</td>\n",
              "      <td>1000.00</td>\n",
              "      <td>0</td>\n",
              "      <td>941.00</td>\n",
              "      <td>22</td>\n",
              "      <td>0</td>\n",
              "      <td>NaN</td>\n",
              "      <td>10000.0</td>\n",
              "      <td>10000</td>\n",
              "      <td>20</td>\n",
              "      <td>35000.0</td>\n",
              "      <td>2017-08-13</td>\n",
              "      <td>0.0</td>\n",
              "      <td>759485</td>\n",
              "      <td>338246</td>\n",
              "      <td>1</td>\n",
              "    </tr>\n",
              "    <tr>\n",
              "      <th>50000</th>\n",
              "      <td>50000</td>\n",
              "      <td>19750.00</td>\n",
              "      <td>9</td>\n",
              "      <td>14100.00</td>\n",
              "      <td>14100.00</td>\n",
              "      <td>331</td>\n",
              "      <td>6000.00</td>\n",
              "      <td>33</td>\n",
              "      <td>0</td>\n",
              "      <td>40.0</td>\n",
              "      <td>2000.0</td>\n",
              "      <td>2000</td>\n",
              "      <td>21</td>\n",
              "      <td>NaN</td>\n",
              "      <td>2017-08-13</td>\n",
              "      <td>0.0</td>\n",
              "      <td>759490</td>\n",
              "      <td>261961</td>\n",
              "      <td>1</td>\n",
              "    </tr>\n",
              "  </tbody>\n",
              "</table>\n",
              "<p>50001 rows × 19 columns</p>\n",
              "</div>"
            ],
            "text/plain": [
              "       Unnamed: 0  Closed Cred Sum  Closed Creds  ...  Order Id  Client Id  Expert\n",
              "0               0        143822.00            22  ...    728319     320464       1\n",
              "1               1             0.00             0  ...    728321     320466       1\n",
              "2               2         51356.00             2  ...    728323     320467       1\n",
              "3               3             0.00             0  ...    728447     320533       1\n",
              "4               4         12298.00             1  ...    728421     298598       1\n",
              "...           ...              ...           ...  ...       ...        ...     ...\n",
              "49996       49996             0.00             0  ...    759472      96091       1\n",
              "49997       49997         21653.49             2  ...    759475     338240       1\n",
              "49998       49998             0.00             0  ...    759485     338246       1\n",
              "49999       49999             0.00             0  ...    759485     338246       1\n",
              "50000       50000         19750.00             9  ...    759490     261961       1\n",
              "\n",
              "[50001 rows x 19 columns]"
            ]
          },
          "metadata": {
            "tags": []
          },
          "execution_count": 6
        }
      ]
    },
    {
      "cell_type": "code",
      "metadata": {
        "id": "ZHpdt1H2mXV1"
      },
      "source": [
        "df = df.drop(['Unnamed: 0'], axis=1)"
      ],
      "execution_count": 9,
      "outputs": []
    },
    {
      "cell_type": "code",
      "metadata": {
        "colab": {
          "base_uri": "https://localhost:8080/"
        },
        "id": "jCQKirOaoCr9",
        "outputId": "00810f80-ad5e-415c-971d-6807155a71b4"
      },
      "source": [
        "df.columns"
      ],
      "execution_count": 12,
      "outputs": [
        {
          "output_type": "execute_result",
          "data": {
            "text/plain": [
              "Index(['Closed Cred Sum', 'Closed Creds', 'Active Cred Sum Overdue',\n",
              "       'Active Cred Sum', 'Active Cred Day Overdue', 'Active Cred Max Overdue',\n",
              "       'Age', 'Gender', 'Region', 'First Loan', 'Loan Cost All',\n",
              "       'First Days Quant', 'Month Income', 'Order Date', 'Cost All',\n",
              "       'Order Id', 'Client Id', 'Expert'],\n",
              "      dtype='object')"
            ]
          },
          "metadata": {
            "tags": []
          },
          "execution_count": 12
        }
      ]
    },
    {
      "cell_type": "code",
      "metadata": {
        "id": "nSHLO1IGoEv_"
      },
      "source": [
        "df.columns = ['closed_cred_sum', 'Closed Creds', 'Active Cred Sum Overdue',\n",
        "       'Active Cred Sum', 'Active Cred Day Overdue', 'Active Cred Max Overdue',\n",
        "       'Age', 'Gender', 'Region', 'First Loan', 'Loan Cost All',\n",
        "       'First Days Quant', 'Month Income', 'Order Date', 'Cost All',\n",
        "       'Order Id', 'Client Id', 'Expert']"
      ],
      "execution_count": 13,
      "outputs": []
    },
    {
      "cell_type": "code",
      "metadata": {
        "colab": {
          "base_uri": "https://localhost:8080/",
          "height": 35
        },
        "id": "YmplcOc6pSml",
        "outputId": "9a8f1e89-dc04-4c17-d008-098945b4277d"
      },
      "source": [
        "'gleb hleb'.replace(' ','_')"
      ],
      "execution_count": 20,
      "outputs": [
        {
          "output_type": "execute_result",
          "data": {
            "application/vnd.google.colaboratory.intrinsic+json": {
              "type": "string"
            },
            "text/plain": [
              "'gleb_hleb'"
            ]
          },
          "metadata": {
            "tags": []
          },
          "execution_count": 20
        }
      ]
    },
    {
      "cell_type": "code",
      "metadata": {
        "id": "e2SMX30ao_uV"
      },
      "source": [
        "df.columns = df.columns.str.lower().str.replace(' ','_')"
      ],
      "execution_count": 22,
      "outputs": []
    },
    {
      "cell_type": "code",
      "metadata": {
        "colab": {
          "base_uri": "https://localhost:8080/",
          "height": 422
        },
        "id": "L5jd4W3ro7Fp",
        "outputId": "54a90356-8d6b-4bf6-97ab-920153d079b2"
      },
      "source": [
        "df"
      ],
      "execution_count": 23,
      "outputs": [
        {
          "output_type": "execute_result",
          "data": {
            "text/html": [
              "<div>\n",
              "<style scoped>\n",
              "    .dataframe tbody tr th:only-of-type {\n",
              "        vertical-align: middle;\n",
              "    }\n",
              "\n",
              "    .dataframe tbody tr th {\n",
              "        vertical-align: top;\n",
              "    }\n",
              "\n",
              "    .dataframe thead th {\n",
              "        text-align: right;\n",
              "    }\n",
              "</style>\n",
              "<table border=\"1\" class=\"dataframe\">\n",
              "  <thead>\n",
              "    <tr style=\"text-align: right;\">\n",
              "      <th></th>\n",
              "      <th>closed_cred_sum</th>\n",
              "      <th>closed_creds</th>\n",
              "      <th>active_cred_sum_overdue</th>\n",
              "      <th>active_cred_sum</th>\n",
              "      <th>active_cred_day_overdue</th>\n",
              "      <th>active_cred_max_overdue</th>\n",
              "      <th>age</th>\n",
              "      <th>gender</th>\n",
              "      <th>region</th>\n",
              "      <th>first_loan</th>\n",
              "      <th>loan_cost_all</th>\n",
              "      <th>first_days_quant</th>\n",
              "      <th>month_income</th>\n",
              "      <th>order_date</th>\n",
              "      <th>cost_all</th>\n",
              "      <th>order_id</th>\n",
              "      <th>client_id</th>\n",
              "      <th>expert</th>\n",
              "    </tr>\n",
              "  </thead>\n",
              "  <tbody>\n",
              "    <tr>\n",
              "      <th>0</th>\n",
              "      <td>143822.00</td>\n",
              "      <td>22</td>\n",
              "      <td>104.12</td>\n",
              "      <td>130068.80</td>\n",
              "      <td>8</td>\n",
              "      <td>756.09</td>\n",
              "      <td>31</td>\n",
              "      <td>0</td>\n",
              "      <td>36.0</td>\n",
              "      <td>10000.0</td>\n",
              "      <td>10000</td>\n",
              "      <td>196</td>\n",
              "      <td>NaN</td>\n",
              "      <td>2017-07-23</td>\n",
              "      <td>0.0</td>\n",
              "      <td>728319</td>\n",
              "      <td>320464</td>\n",
              "      <td>1</td>\n",
              "    </tr>\n",
              "    <tr>\n",
              "      <th>1</th>\n",
              "      <td>0.00</td>\n",
              "      <td>0</td>\n",
              "      <td>38151.93</td>\n",
              "      <td>46230.00</td>\n",
              "      <td>1492</td>\n",
              "      <td>38151.93</td>\n",
              "      <td>51</td>\n",
              "      <td>0</td>\n",
              "      <td>93.0</td>\n",
              "      <td>10000.0</td>\n",
              "      <td>10000</td>\n",
              "      <td>17</td>\n",
              "      <td>20000.0</td>\n",
              "      <td>2017-07-23</td>\n",
              "      <td>0.0</td>\n",
              "      <td>728321</td>\n",
              "      <td>320466</td>\n",
              "      <td>1</td>\n",
              "    </tr>\n",
              "    <tr>\n",
              "      <th>2</th>\n",
              "      <td>51356.00</td>\n",
              "      <td>2</td>\n",
              "      <td>3000.00</td>\n",
              "      <td>3000.00</td>\n",
              "      <td>8</td>\n",
              "      <td>3000.00</td>\n",
              "      <td>28</td>\n",
              "      <td>1</td>\n",
              "      <td>3.0</td>\n",
              "      <td>10000.0</td>\n",
              "      <td>10000</td>\n",
              "      <td>84</td>\n",
              "      <td>NaN</td>\n",
              "      <td>2017-07-23</td>\n",
              "      <td>0.0</td>\n",
              "      <td>728323</td>\n",
              "      <td>320467</td>\n",
              "      <td>1</td>\n",
              "    </tr>\n",
              "    <tr>\n",
              "      <th>3</th>\n",
              "      <td>0.00</td>\n",
              "      <td>0</td>\n",
              "      <td>22784.19</td>\n",
              "      <td>32103.52</td>\n",
              "      <td>913</td>\n",
              "      <td>22784.19</td>\n",
              "      <td>28</td>\n",
              "      <td>0</td>\n",
              "      <td>52.0</td>\n",
              "      <td>10000.0</td>\n",
              "      <td>10000</td>\n",
              "      <td>7</td>\n",
              "      <td>NaN</td>\n",
              "      <td>2017-07-23</td>\n",
              "      <td>0.0</td>\n",
              "      <td>728447</td>\n",
              "      <td>320533</td>\n",
              "      <td>1</td>\n",
              "    </tr>\n",
              "    <tr>\n",
              "      <th>4</th>\n",
              "      <td>12298.00</td>\n",
              "      <td>1</td>\n",
              "      <td>4942.95</td>\n",
              "      <td>4950.00</td>\n",
              "      <td>2883</td>\n",
              "      <td>4942.95</td>\n",
              "      <td>31</td>\n",
              "      <td>0</td>\n",
              "      <td>47.0</td>\n",
              "      <td>5000.0</td>\n",
              "      <td>5000</td>\n",
              "      <td>20</td>\n",
              "      <td>NaN</td>\n",
              "      <td>2017-07-23</td>\n",
              "      <td>0.0</td>\n",
              "      <td>728421</td>\n",
              "      <td>298598</td>\n",
              "      <td>1</td>\n",
              "    </tr>\n",
              "    <tr>\n",
              "      <th>...</th>\n",
              "      <td>...</td>\n",
              "      <td>...</td>\n",
              "      <td>...</td>\n",
              "      <td>...</td>\n",
              "      <td>...</td>\n",
              "      <td>...</td>\n",
              "      <td>...</td>\n",
              "      <td>...</td>\n",
              "      <td>...</td>\n",
              "      <td>...</td>\n",
              "      <td>...</td>\n",
              "      <td>...</td>\n",
              "      <td>...</td>\n",
              "      <td>...</td>\n",
              "      <td>...</td>\n",
              "      <td>...</td>\n",
              "      <td>...</td>\n",
              "      <td>...</td>\n",
              "    </tr>\n",
              "    <tr>\n",
              "      <th>49996</th>\n",
              "      <td>0.00</td>\n",
              "      <td>0</td>\n",
              "      <td>74662.61</td>\n",
              "      <td>79662.61</td>\n",
              "      <td>2593</td>\n",
              "      <td>42204.55</td>\n",
              "      <td>27</td>\n",
              "      <td>1</td>\n",
              "      <td>NaN</td>\n",
              "      <td>4000.0</td>\n",
              "      <td>4000</td>\n",
              "      <td>20</td>\n",
              "      <td>NaN</td>\n",
              "      <td>2017-08-13</td>\n",
              "      <td>0.0</td>\n",
              "      <td>759472</td>\n",
              "      <td>96091</td>\n",
              "      <td>1</td>\n",
              "    </tr>\n",
              "    <tr>\n",
              "      <th>49997</th>\n",
              "      <td>21653.49</td>\n",
              "      <td>2</td>\n",
              "      <td>0.00</td>\n",
              "      <td>0.00</td>\n",
              "      <td>0</td>\n",
              "      <td>0.00</td>\n",
              "      <td>28</td>\n",
              "      <td>0</td>\n",
              "      <td>75.0</td>\n",
              "      <td>2000.0</td>\n",
              "      <td>2000</td>\n",
              "      <td>10</td>\n",
              "      <td>20000.0</td>\n",
              "      <td>2017-08-13</td>\n",
              "      <td>0.0</td>\n",
              "      <td>759475</td>\n",
              "      <td>338240</td>\n",
              "      <td>1</td>\n",
              "    </tr>\n",
              "    <tr>\n",
              "      <th>49998</th>\n",
              "      <td>0.00</td>\n",
              "      <td>0</td>\n",
              "      <td>0.00</td>\n",
              "      <td>1000.00</td>\n",
              "      <td>0</td>\n",
              "      <td>941.00</td>\n",
              "      <td>22</td>\n",
              "      <td>0</td>\n",
              "      <td>NaN</td>\n",
              "      <td>10000.0</td>\n",
              "      <td>10000</td>\n",
              "      <td>20</td>\n",
              "      <td>35000.0</td>\n",
              "      <td>2017-08-13</td>\n",
              "      <td>0.0</td>\n",
              "      <td>759485</td>\n",
              "      <td>338246</td>\n",
              "      <td>1</td>\n",
              "    </tr>\n",
              "    <tr>\n",
              "      <th>49999</th>\n",
              "      <td>0.00</td>\n",
              "      <td>0</td>\n",
              "      <td>0.00</td>\n",
              "      <td>1000.00</td>\n",
              "      <td>0</td>\n",
              "      <td>941.00</td>\n",
              "      <td>22</td>\n",
              "      <td>0</td>\n",
              "      <td>NaN</td>\n",
              "      <td>10000.0</td>\n",
              "      <td>10000</td>\n",
              "      <td>20</td>\n",
              "      <td>35000.0</td>\n",
              "      <td>2017-08-13</td>\n",
              "      <td>0.0</td>\n",
              "      <td>759485</td>\n",
              "      <td>338246</td>\n",
              "      <td>1</td>\n",
              "    </tr>\n",
              "    <tr>\n",
              "      <th>50000</th>\n",
              "      <td>19750.00</td>\n",
              "      <td>9</td>\n",
              "      <td>14100.00</td>\n",
              "      <td>14100.00</td>\n",
              "      <td>331</td>\n",
              "      <td>6000.00</td>\n",
              "      <td>33</td>\n",
              "      <td>0</td>\n",
              "      <td>40.0</td>\n",
              "      <td>2000.0</td>\n",
              "      <td>2000</td>\n",
              "      <td>21</td>\n",
              "      <td>NaN</td>\n",
              "      <td>2017-08-13</td>\n",
              "      <td>0.0</td>\n",
              "      <td>759490</td>\n",
              "      <td>261961</td>\n",
              "      <td>1</td>\n",
              "    </tr>\n",
              "  </tbody>\n",
              "</table>\n",
              "<p>50001 rows × 18 columns</p>\n",
              "</div>"
            ],
            "text/plain": [
              "       closed_cred_sum  closed_creds  ...  client_id  expert\n",
              "0            143822.00            22  ...     320464       1\n",
              "1                 0.00             0  ...     320466       1\n",
              "2             51356.00             2  ...     320467       1\n",
              "3                 0.00             0  ...     320533       1\n",
              "4             12298.00             1  ...     298598       1\n",
              "...                ...           ...  ...        ...     ...\n",
              "49996             0.00             0  ...      96091       1\n",
              "49997         21653.49             2  ...     338240       1\n",
              "49998             0.00             0  ...     338246       1\n",
              "49999             0.00             0  ...     338246       1\n",
              "50000         19750.00             9  ...     261961       1\n",
              "\n",
              "[50001 rows x 18 columns]"
            ]
          },
          "metadata": {
            "tags": []
          },
          "execution_count": 23
        }
      ]
    },
    {
      "cell_type": "code",
      "metadata": {
        "colab": {
          "base_uri": "https://localhost:8080/"
        },
        "id": "nd9eMqI1qIPe",
        "outputId": "ca9e6cd5-faaa-40d2-e8b7-a039a0fc1c59"
      },
      "source": [
        "df.info()"
      ],
      "execution_count": 25,
      "outputs": [
        {
          "output_type": "stream",
          "text": [
            "<class 'pandas.core.frame.DataFrame'>\n",
            "RangeIndex: 50001 entries, 0 to 50000\n",
            "Data columns (total 18 columns):\n",
            " #   Column                   Non-Null Count  Dtype  \n",
            "---  ------                   --------------  -----  \n",
            " 0   closed_cred_sum          50001 non-null  float64\n",
            " 1   closed_creds             50001 non-null  int64  \n",
            " 2   active_cred_sum_overdue  50001 non-null  float64\n",
            " 3   active_cred_sum          50001 non-null  float64\n",
            " 4   active_cred_day_overdue  50001 non-null  int64  \n",
            " 5   active_cred_max_overdue  50001 non-null  float64\n",
            " 6   age                      50001 non-null  int64  \n",
            " 7   gender                   50001 non-null  int64  \n",
            " 8   region                   29940 non-null  float64\n",
            " 9   first_loan               49982 non-null  float64\n",
            " 10  loan_cost_all            50001 non-null  int64  \n",
            " 11  first_days_quant         50001 non-null  int64  \n",
            " 12  month_income             34829 non-null  float64\n",
            " 13  order_date               50001 non-null  object \n",
            " 14  cost_all                 50001 non-null  float64\n",
            " 15  order_id                 50001 non-null  int64  \n",
            " 16  client_id                50001 non-null  int64  \n",
            " 17  expert                   50001 non-null  int64  \n",
            "dtypes: float64(8), int64(9), object(1)\n",
            "memory usage: 6.9+ MB\n"
          ],
          "name": "stdout"
        }
      ]
    },
    {
      "cell_type": "code",
      "metadata": {
        "colab": {
          "base_uri": "https://localhost:8080/"
        },
        "id": "FfVtplU7o7nk",
        "outputId": "2c6d064c-ff06-4635-f03f-e3c74dff31c2"
      },
      "source": [
        "df.isna().mean()"
      ],
      "execution_count": 24,
      "outputs": [
        {
          "output_type": "execute_result",
          "data": {
            "text/plain": [
              "closed_cred_sum            0.000000\n",
              "closed_creds               0.000000\n",
              "active_cred_sum_overdue    0.000000\n",
              "active_cred_sum            0.000000\n",
              "active_cred_day_overdue    0.000000\n",
              "active_cred_max_overdue    0.000000\n",
              "age                        0.000000\n",
              "gender                     0.000000\n",
              "region                     0.401212\n",
              "first_loan                 0.000380\n",
              "loan_cost_all              0.000000\n",
              "first_days_quant           0.000000\n",
              "month_income               0.303434\n",
              "order_date                 0.000000\n",
              "cost_all                   0.000000\n",
              "order_id                   0.000000\n",
              "client_id                  0.000000\n",
              "expert                     0.000000\n",
              "dtype: float64"
            ]
          },
          "metadata": {
            "tags": []
          },
          "execution_count": 24
        }
      ]
    },
    {
      "cell_type": "code",
      "metadata": {
        "colab": {
          "base_uri": "https://localhost:8080/",
          "height": 422
        },
        "id": "MS4gr-2TqCUP",
        "outputId": "2cde97f2-3bc8-4c46-9892-fc9467ece042"
      },
      "source": [
        "df"
      ],
      "execution_count": 26,
      "outputs": [
        {
          "output_type": "execute_result",
          "data": {
            "text/html": [
              "<div>\n",
              "<style scoped>\n",
              "    .dataframe tbody tr th:only-of-type {\n",
              "        vertical-align: middle;\n",
              "    }\n",
              "\n",
              "    .dataframe tbody tr th {\n",
              "        vertical-align: top;\n",
              "    }\n",
              "\n",
              "    .dataframe thead th {\n",
              "        text-align: right;\n",
              "    }\n",
              "</style>\n",
              "<table border=\"1\" class=\"dataframe\">\n",
              "  <thead>\n",
              "    <tr style=\"text-align: right;\">\n",
              "      <th></th>\n",
              "      <th>closed_cred_sum</th>\n",
              "      <th>closed_creds</th>\n",
              "      <th>active_cred_sum_overdue</th>\n",
              "      <th>active_cred_sum</th>\n",
              "      <th>active_cred_day_overdue</th>\n",
              "      <th>active_cred_max_overdue</th>\n",
              "      <th>age</th>\n",
              "      <th>gender</th>\n",
              "      <th>region</th>\n",
              "      <th>first_loan</th>\n",
              "      <th>loan_cost_all</th>\n",
              "      <th>first_days_quant</th>\n",
              "      <th>month_income</th>\n",
              "      <th>order_date</th>\n",
              "      <th>cost_all</th>\n",
              "      <th>order_id</th>\n",
              "      <th>client_id</th>\n",
              "      <th>expert</th>\n",
              "    </tr>\n",
              "  </thead>\n",
              "  <tbody>\n",
              "    <tr>\n",
              "      <th>0</th>\n",
              "      <td>143822.00</td>\n",
              "      <td>22</td>\n",
              "      <td>104.12</td>\n",
              "      <td>130068.80</td>\n",
              "      <td>8</td>\n",
              "      <td>756.09</td>\n",
              "      <td>31</td>\n",
              "      <td>0</td>\n",
              "      <td>36.0</td>\n",
              "      <td>10000.0</td>\n",
              "      <td>10000</td>\n",
              "      <td>196</td>\n",
              "      <td>NaN</td>\n",
              "      <td>2017-07-23</td>\n",
              "      <td>0.0</td>\n",
              "      <td>728319</td>\n",
              "      <td>320464</td>\n",
              "      <td>1</td>\n",
              "    </tr>\n",
              "    <tr>\n",
              "      <th>1</th>\n",
              "      <td>0.00</td>\n",
              "      <td>0</td>\n",
              "      <td>38151.93</td>\n",
              "      <td>46230.00</td>\n",
              "      <td>1492</td>\n",
              "      <td>38151.93</td>\n",
              "      <td>51</td>\n",
              "      <td>0</td>\n",
              "      <td>93.0</td>\n",
              "      <td>10000.0</td>\n",
              "      <td>10000</td>\n",
              "      <td>17</td>\n",
              "      <td>20000.0</td>\n",
              "      <td>2017-07-23</td>\n",
              "      <td>0.0</td>\n",
              "      <td>728321</td>\n",
              "      <td>320466</td>\n",
              "      <td>1</td>\n",
              "    </tr>\n",
              "    <tr>\n",
              "      <th>2</th>\n",
              "      <td>51356.00</td>\n",
              "      <td>2</td>\n",
              "      <td>3000.00</td>\n",
              "      <td>3000.00</td>\n",
              "      <td>8</td>\n",
              "      <td>3000.00</td>\n",
              "      <td>28</td>\n",
              "      <td>1</td>\n",
              "      <td>3.0</td>\n",
              "      <td>10000.0</td>\n",
              "      <td>10000</td>\n",
              "      <td>84</td>\n",
              "      <td>NaN</td>\n",
              "      <td>2017-07-23</td>\n",
              "      <td>0.0</td>\n",
              "      <td>728323</td>\n",
              "      <td>320467</td>\n",
              "      <td>1</td>\n",
              "    </tr>\n",
              "    <tr>\n",
              "      <th>3</th>\n",
              "      <td>0.00</td>\n",
              "      <td>0</td>\n",
              "      <td>22784.19</td>\n",
              "      <td>32103.52</td>\n",
              "      <td>913</td>\n",
              "      <td>22784.19</td>\n",
              "      <td>28</td>\n",
              "      <td>0</td>\n",
              "      <td>52.0</td>\n",
              "      <td>10000.0</td>\n",
              "      <td>10000</td>\n",
              "      <td>7</td>\n",
              "      <td>NaN</td>\n",
              "      <td>2017-07-23</td>\n",
              "      <td>0.0</td>\n",
              "      <td>728447</td>\n",
              "      <td>320533</td>\n",
              "      <td>1</td>\n",
              "    </tr>\n",
              "    <tr>\n",
              "      <th>4</th>\n",
              "      <td>12298.00</td>\n",
              "      <td>1</td>\n",
              "      <td>4942.95</td>\n",
              "      <td>4950.00</td>\n",
              "      <td>2883</td>\n",
              "      <td>4942.95</td>\n",
              "      <td>31</td>\n",
              "      <td>0</td>\n",
              "      <td>47.0</td>\n",
              "      <td>5000.0</td>\n",
              "      <td>5000</td>\n",
              "      <td>20</td>\n",
              "      <td>NaN</td>\n",
              "      <td>2017-07-23</td>\n",
              "      <td>0.0</td>\n",
              "      <td>728421</td>\n",
              "      <td>298598</td>\n",
              "      <td>1</td>\n",
              "    </tr>\n",
              "    <tr>\n",
              "      <th>...</th>\n",
              "      <td>...</td>\n",
              "      <td>...</td>\n",
              "      <td>...</td>\n",
              "      <td>...</td>\n",
              "      <td>...</td>\n",
              "      <td>...</td>\n",
              "      <td>...</td>\n",
              "      <td>...</td>\n",
              "      <td>...</td>\n",
              "      <td>...</td>\n",
              "      <td>...</td>\n",
              "      <td>...</td>\n",
              "      <td>...</td>\n",
              "      <td>...</td>\n",
              "      <td>...</td>\n",
              "      <td>...</td>\n",
              "      <td>...</td>\n",
              "      <td>...</td>\n",
              "    </tr>\n",
              "    <tr>\n",
              "      <th>49996</th>\n",
              "      <td>0.00</td>\n",
              "      <td>0</td>\n",
              "      <td>74662.61</td>\n",
              "      <td>79662.61</td>\n",
              "      <td>2593</td>\n",
              "      <td>42204.55</td>\n",
              "      <td>27</td>\n",
              "      <td>1</td>\n",
              "      <td>NaN</td>\n",
              "      <td>4000.0</td>\n",
              "      <td>4000</td>\n",
              "      <td>20</td>\n",
              "      <td>NaN</td>\n",
              "      <td>2017-08-13</td>\n",
              "      <td>0.0</td>\n",
              "      <td>759472</td>\n",
              "      <td>96091</td>\n",
              "      <td>1</td>\n",
              "    </tr>\n",
              "    <tr>\n",
              "      <th>49997</th>\n",
              "      <td>21653.49</td>\n",
              "      <td>2</td>\n",
              "      <td>0.00</td>\n",
              "      <td>0.00</td>\n",
              "      <td>0</td>\n",
              "      <td>0.00</td>\n",
              "      <td>28</td>\n",
              "      <td>0</td>\n",
              "      <td>75.0</td>\n",
              "      <td>2000.0</td>\n",
              "      <td>2000</td>\n",
              "      <td>10</td>\n",
              "      <td>20000.0</td>\n",
              "      <td>2017-08-13</td>\n",
              "      <td>0.0</td>\n",
              "      <td>759475</td>\n",
              "      <td>338240</td>\n",
              "      <td>1</td>\n",
              "    </tr>\n",
              "    <tr>\n",
              "      <th>49998</th>\n",
              "      <td>0.00</td>\n",
              "      <td>0</td>\n",
              "      <td>0.00</td>\n",
              "      <td>1000.00</td>\n",
              "      <td>0</td>\n",
              "      <td>941.00</td>\n",
              "      <td>22</td>\n",
              "      <td>0</td>\n",
              "      <td>NaN</td>\n",
              "      <td>10000.0</td>\n",
              "      <td>10000</td>\n",
              "      <td>20</td>\n",
              "      <td>35000.0</td>\n",
              "      <td>2017-08-13</td>\n",
              "      <td>0.0</td>\n",
              "      <td>759485</td>\n",
              "      <td>338246</td>\n",
              "      <td>1</td>\n",
              "    </tr>\n",
              "    <tr>\n",
              "      <th>49999</th>\n",
              "      <td>0.00</td>\n",
              "      <td>0</td>\n",
              "      <td>0.00</td>\n",
              "      <td>1000.00</td>\n",
              "      <td>0</td>\n",
              "      <td>941.00</td>\n",
              "      <td>22</td>\n",
              "      <td>0</td>\n",
              "      <td>NaN</td>\n",
              "      <td>10000.0</td>\n",
              "      <td>10000</td>\n",
              "      <td>20</td>\n",
              "      <td>35000.0</td>\n",
              "      <td>2017-08-13</td>\n",
              "      <td>0.0</td>\n",
              "      <td>759485</td>\n",
              "      <td>338246</td>\n",
              "      <td>1</td>\n",
              "    </tr>\n",
              "    <tr>\n",
              "      <th>50000</th>\n",
              "      <td>19750.00</td>\n",
              "      <td>9</td>\n",
              "      <td>14100.00</td>\n",
              "      <td>14100.00</td>\n",
              "      <td>331</td>\n",
              "      <td>6000.00</td>\n",
              "      <td>33</td>\n",
              "      <td>0</td>\n",
              "      <td>40.0</td>\n",
              "      <td>2000.0</td>\n",
              "      <td>2000</td>\n",
              "      <td>21</td>\n",
              "      <td>NaN</td>\n",
              "      <td>2017-08-13</td>\n",
              "      <td>0.0</td>\n",
              "      <td>759490</td>\n",
              "      <td>261961</td>\n",
              "      <td>1</td>\n",
              "    </tr>\n",
              "  </tbody>\n",
              "</table>\n",
              "<p>50001 rows × 18 columns</p>\n",
              "</div>"
            ],
            "text/plain": [
              "       closed_cred_sum  closed_creds  ...  client_id  expert\n",
              "0            143822.00            22  ...     320464       1\n",
              "1                 0.00             0  ...     320466       1\n",
              "2             51356.00             2  ...     320467       1\n",
              "3                 0.00             0  ...     320533       1\n",
              "4             12298.00             1  ...     298598       1\n",
              "...                ...           ...  ...        ...     ...\n",
              "49996             0.00             0  ...      96091       1\n",
              "49997         21653.49             2  ...     338240       1\n",
              "49998             0.00             0  ...     338246       1\n",
              "49999             0.00             0  ...     338246       1\n",
              "50000         19750.00             9  ...     261961       1\n",
              "\n",
              "[50001 rows x 18 columns]"
            ]
          },
          "metadata": {
            "tags": []
          },
          "execution_count": 26
        }
      ]
    },
    {
      "cell_type": "code",
      "metadata": {
        "colab": {
          "base_uri": "https://localhost:8080/"
        },
        "id": "wS9ZXAtmqUko",
        "outputId": "cef9b1ac-8755-4d6c-eacf-68925e634827"
      },
      "source": [
        "[1,0,1]"
      ],
      "execution_count": 27,
      "outputs": [
        {
          "output_type": "execute_result",
          "data": {
            "text/plain": [
              "[1, 0, 1]"
            ]
          },
          "metadata": {
            "tags": []
          },
          "execution_count": 27
        }
      ]
    },
    {
      "cell_type": "code",
      "metadata": {
        "colab": {
          "base_uri": "https://localhost:8080/"
        },
        "id": "KtR1tt9hq9HM",
        "outputId": "8f9ccf43-137c-402e-c39a-bfd9d7a2223e"
      },
      "source": [
        "(1 + 0 + 1) / 3"
      ],
      "execution_count": 28,
      "outputs": [
        {
          "output_type": "execute_result",
          "data": {
            "text/plain": [
              "0.6666666666666666"
            ]
          },
          "metadata": {
            "tags": []
          },
          "execution_count": 28
        }
      ]
    },
    {
      "cell_type": "code",
      "metadata": {
        "colab": {
          "base_uri": "https://localhost:8080/"
        },
        "id": "8-0Hpi0mrArm",
        "outputId": "6be8c894-8e0e-4e29-82ff-3f47820d996f"
      },
      "source": [
        "df['expert'].mean()"
      ],
      "execution_count": 29,
      "outputs": [
        {
          "output_type": "execute_result",
          "data": {
            "text/plain": [
              "0.749265014699706"
            ]
          },
          "metadata": {
            "tags": []
          },
          "execution_count": 29
        }
      ]
    },
    {
      "cell_type": "code",
      "metadata": {
        "colab": {
          "base_uri": "https://localhost:8080/",
          "height": 422
        },
        "id": "kh0d-98JrEDq",
        "outputId": "65326de7-84aa-459a-ab26-13e8b011eeb0"
      },
      "source": [
        "df"
      ],
      "execution_count": 30,
      "outputs": [
        {
          "output_type": "execute_result",
          "data": {
            "text/html": [
              "<div>\n",
              "<style scoped>\n",
              "    .dataframe tbody tr th:only-of-type {\n",
              "        vertical-align: middle;\n",
              "    }\n",
              "\n",
              "    .dataframe tbody tr th {\n",
              "        vertical-align: top;\n",
              "    }\n",
              "\n",
              "    .dataframe thead th {\n",
              "        text-align: right;\n",
              "    }\n",
              "</style>\n",
              "<table border=\"1\" class=\"dataframe\">\n",
              "  <thead>\n",
              "    <tr style=\"text-align: right;\">\n",
              "      <th></th>\n",
              "      <th>closed_cred_sum</th>\n",
              "      <th>closed_creds</th>\n",
              "      <th>active_cred_sum_overdue</th>\n",
              "      <th>active_cred_sum</th>\n",
              "      <th>active_cred_day_overdue</th>\n",
              "      <th>active_cred_max_overdue</th>\n",
              "      <th>age</th>\n",
              "      <th>gender</th>\n",
              "      <th>region</th>\n",
              "      <th>first_loan</th>\n",
              "      <th>loan_cost_all</th>\n",
              "      <th>first_days_quant</th>\n",
              "      <th>month_income</th>\n",
              "      <th>order_date</th>\n",
              "      <th>cost_all</th>\n",
              "      <th>order_id</th>\n",
              "      <th>client_id</th>\n",
              "      <th>expert</th>\n",
              "    </tr>\n",
              "  </thead>\n",
              "  <tbody>\n",
              "    <tr>\n",
              "      <th>0</th>\n",
              "      <td>143822.00</td>\n",
              "      <td>22</td>\n",
              "      <td>104.12</td>\n",
              "      <td>130068.80</td>\n",
              "      <td>8</td>\n",
              "      <td>756.09</td>\n",
              "      <td>31</td>\n",
              "      <td>0</td>\n",
              "      <td>36.0</td>\n",
              "      <td>10000.0</td>\n",
              "      <td>10000</td>\n",
              "      <td>196</td>\n",
              "      <td>NaN</td>\n",
              "      <td>2017-07-23</td>\n",
              "      <td>0.0</td>\n",
              "      <td>728319</td>\n",
              "      <td>320464</td>\n",
              "      <td>1</td>\n",
              "    </tr>\n",
              "    <tr>\n",
              "      <th>1</th>\n",
              "      <td>0.00</td>\n",
              "      <td>0</td>\n",
              "      <td>38151.93</td>\n",
              "      <td>46230.00</td>\n",
              "      <td>1492</td>\n",
              "      <td>38151.93</td>\n",
              "      <td>51</td>\n",
              "      <td>0</td>\n",
              "      <td>93.0</td>\n",
              "      <td>10000.0</td>\n",
              "      <td>10000</td>\n",
              "      <td>17</td>\n",
              "      <td>20000.0</td>\n",
              "      <td>2017-07-23</td>\n",
              "      <td>0.0</td>\n",
              "      <td>728321</td>\n",
              "      <td>320466</td>\n",
              "      <td>1</td>\n",
              "    </tr>\n",
              "    <tr>\n",
              "      <th>2</th>\n",
              "      <td>51356.00</td>\n",
              "      <td>2</td>\n",
              "      <td>3000.00</td>\n",
              "      <td>3000.00</td>\n",
              "      <td>8</td>\n",
              "      <td>3000.00</td>\n",
              "      <td>28</td>\n",
              "      <td>1</td>\n",
              "      <td>3.0</td>\n",
              "      <td>10000.0</td>\n",
              "      <td>10000</td>\n",
              "      <td>84</td>\n",
              "      <td>NaN</td>\n",
              "      <td>2017-07-23</td>\n",
              "      <td>0.0</td>\n",
              "      <td>728323</td>\n",
              "      <td>320467</td>\n",
              "      <td>1</td>\n",
              "    </tr>\n",
              "    <tr>\n",
              "      <th>3</th>\n",
              "      <td>0.00</td>\n",
              "      <td>0</td>\n",
              "      <td>22784.19</td>\n",
              "      <td>32103.52</td>\n",
              "      <td>913</td>\n",
              "      <td>22784.19</td>\n",
              "      <td>28</td>\n",
              "      <td>0</td>\n",
              "      <td>52.0</td>\n",
              "      <td>10000.0</td>\n",
              "      <td>10000</td>\n",
              "      <td>7</td>\n",
              "      <td>NaN</td>\n",
              "      <td>2017-07-23</td>\n",
              "      <td>0.0</td>\n",
              "      <td>728447</td>\n",
              "      <td>320533</td>\n",
              "      <td>1</td>\n",
              "    </tr>\n",
              "    <tr>\n",
              "      <th>4</th>\n",
              "      <td>12298.00</td>\n",
              "      <td>1</td>\n",
              "      <td>4942.95</td>\n",
              "      <td>4950.00</td>\n",
              "      <td>2883</td>\n",
              "      <td>4942.95</td>\n",
              "      <td>31</td>\n",
              "      <td>0</td>\n",
              "      <td>47.0</td>\n",
              "      <td>5000.0</td>\n",
              "      <td>5000</td>\n",
              "      <td>20</td>\n",
              "      <td>NaN</td>\n",
              "      <td>2017-07-23</td>\n",
              "      <td>0.0</td>\n",
              "      <td>728421</td>\n",
              "      <td>298598</td>\n",
              "      <td>1</td>\n",
              "    </tr>\n",
              "    <tr>\n",
              "      <th>...</th>\n",
              "      <td>...</td>\n",
              "      <td>...</td>\n",
              "      <td>...</td>\n",
              "      <td>...</td>\n",
              "      <td>...</td>\n",
              "      <td>...</td>\n",
              "      <td>...</td>\n",
              "      <td>...</td>\n",
              "      <td>...</td>\n",
              "      <td>...</td>\n",
              "      <td>...</td>\n",
              "      <td>...</td>\n",
              "      <td>...</td>\n",
              "      <td>...</td>\n",
              "      <td>...</td>\n",
              "      <td>...</td>\n",
              "      <td>...</td>\n",
              "      <td>...</td>\n",
              "    </tr>\n",
              "    <tr>\n",
              "      <th>49996</th>\n",
              "      <td>0.00</td>\n",
              "      <td>0</td>\n",
              "      <td>74662.61</td>\n",
              "      <td>79662.61</td>\n",
              "      <td>2593</td>\n",
              "      <td>42204.55</td>\n",
              "      <td>27</td>\n",
              "      <td>1</td>\n",
              "      <td>NaN</td>\n",
              "      <td>4000.0</td>\n",
              "      <td>4000</td>\n",
              "      <td>20</td>\n",
              "      <td>NaN</td>\n",
              "      <td>2017-08-13</td>\n",
              "      <td>0.0</td>\n",
              "      <td>759472</td>\n",
              "      <td>96091</td>\n",
              "      <td>1</td>\n",
              "    </tr>\n",
              "    <tr>\n",
              "      <th>49997</th>\n",
              "      <td>21653.49</td>\n",
              "      <td>2</td>\n",
              "      <td>0.00</td>\n",
              "      <td>0.00</td>\n",
              "      <td>0</td>\n",
              "      <td>0.00</td>\n",
              "      <td>28</td>\n",
              "      <td>0</td>\n",
              "      <td>75.0</td>\n",
              "      <td>2000.0</td>\n",
              "      <td>2000</td>\n",
              "      <td>10</td>\n",
              "      <td>20000.0</td>\n",
              "      <td>2017-08-13</td>\n",
              "      <td>0.0</td>\n",
              "      <td>759475</td>\n",
              "      <td>338240</td>\n",
              "      <td>1</td>\n",
              "    </tr>\n",
              "    <tr>\n",
              "      <th>49998</th>\n",
              "      <td>0.00</td>\n",
              "      <td>0</td>\n",
              "      <td>0.00</td>\n",
              "      <td>1000.00</td>\n",
              "      <td>0</td>\n",
              "      <td>941.00</td>\n",
              "      <td>22</td>\n",
              "      <td>0</td>\n",
              "      <td>NaN</td>\n",
              "      <td>10000.0</td>\n",
              "      <td>10000</td>\n",
              "      <td>20</td>\n",
              "      <td>35000.0</td>\n",
              "      <td>2017-08-13</td>\n",
              "      <td>0.0</td>\n",
              "      <td>759485</td>\n",
              "      <td>338246</td>\n",
              "      <td>1</td>\n",
              "    </tr>\n",
              "    <tr>\n",
              "      <th>49999</th>\n",
              "      <td>0.00</td>\n",
              "      <td>0</td>\n",
              "      <td>0.00</td>\n",
              "      <td>1000.00</td>\n",
              "      <td>0</td>\n",
              "      <td>941.00</td>\n",
              "      <td>22</td>\n",
              "      <td>0</td>\n",
              "      <td>NaN</td>\n",
              "      <td>10000.0</td>\n",
              "      <td>10000</td>\n",
              "      <td>20</td>\n",
              "      <td>35000.0</td>\n",
              "      <td>2017-08-13</td>\n",
              "      <td>0.0</td>\n",
              "      <td>759485</td>\n",
              "      <td>338246</td>\n",
              "      <td>1</td>\n",
              "    </tr>\n",
              "    <tr>\n",
              "      <th>50000</th>\n",
              "      <td>19750.00</td>\n",
              "      <td>9</td>\n",
              "      <td>14100.00</td>\n",
              "      <td>14100.00</td>\n",
              "      <td>331</td>\n",
              "      <td>6000.00</td>\n",
              "      <td>33</td>\n",
              "      <td>0</td>\n",
              "      <td>40.0</td>\n",
              "      <td>2000.0</td>\n",
              "      <td>2000</td>\n",
              "      <td>21</td>\n",
              "      <td>NaN</td>\n",
              "      <td>2017-08-13</td>\n",
              "      <td>0.0</td>\n",
              "      <td>759490</td>\n",
              "      <td>261961</td>\n",
              "      <td>1</td>\n",
              "    </tr>\n",
              "  </tbody>\n",
              "</table>\n",
              "<p>50001 rows × 18 columns</p>\n",
              "</div>"
            ],
            "text/plain": [
              "       closed_cred_sum  closed_creds  ...  client_id  expert\n",
              "0            143822.00            22  ...     320464       1\n",
              "1                 0.00             0  ...     320466       1\n",
              "2             51356.00             2  ...     320467       1\n",
              "3                 0.00             0  ...     320533       1\n",
              "4             12298.00             1  ...     298598       1\n",
              "...                ...           ...  ...        ...     ...\n",
              "49996             0.00             0  ...      96091       1\n",
              "49997         21653.49             2  ...     338240       1\n",
              "49998             0.00             0  ...     338246       1\n",
              "49999             0.00             0  ...     338246       1\n",
              "50000         19750.00             9  ...     261961       1\n",
              "\n",
              "[50001 rows x 18 columns]"
            ]
          },
          "metadata": {
            "tags": []
          },
          "execution_count": 30
        }
      ]
    },
    {
      "cell_type": "code",
      "metadata": {
        "colab": {
          "base_uri": "https://localhost:8080/",
          "height": 136
        },
        "id": "59jkNT0ErM2G",
        "outputId": "a457462d-22c8-4152-ed56-3748183fb893"
      },
      "source": [
        "df.groupby('gender')['expert'].agg(['count','sum','mean'])"
      ],
      "execution_count": 53,
      "outputs": [
        {
          "output_type": "execute_result",
          "data": {
            "text/html": [
              "<div>\n",
              "<style scoped>\n",
              "    .dataframe tbody tr th:only-of-type {\n",
              "        vertical-align: middle;\n",
              "    }\n",
              "\n",
              "    .dataframe tbody tr th {\n",
              "        vertical-align: top;\n",
              "    }\n",
              "\n",
              "    .dataframe thead th {\n",
              "        text-align: right;\n",
              "    }\n",
              "</style>\n",
              "<table border=\"1\" class=\"dataframe\">\n",
              "  <thead>\n",
              "    <tr style=\"text-align: right;\">\n",
              "      <th></th>\n",
              "      <th>count</th>\n",
              "      <th>sum</th>\n",
              "      <th>mean</th>\n",
              "    </tr>\n",
              "    <tr>\n",
              "      <th>gender</th>\n",
              "      <th></th>\n",
              "      <th></th>\n",
              "      <th></th>\n",
              "    </tr>\n",
              "  </thead>\n",
              "  <tbody>\n",
              "    <tr>\n",
              "      <th>0</th>\n",
              "      <td>26866</td>\n",
              "      <td>19822</td>\n",
              "      <td>0.737810</td>\n",
              "    </tr>\n",
              "    <tr>\n",
              "      <th>1</th>\n",
              "      <td>23135</td>\n",
              "      <td>17642</td>\n",
              "      <td>0.762568</td>\n",
              "    </tr>\n",
              "  </tbody>\n",
              "</table>\n",
              "</div>"
            ],
            "text/plain": [
              "        count    sum      mean\n",
              "gender                        \n",
              "0       26866  19822  0.737810\n",
              "1       23135  17642  0.762568"
            ]
          },
          "metadata": {
            "tags": []
          },
          "execution_count": 53
        }
      ]
    },
    {
      "cell_type": "markdown",
      "metadata": {
        "id": "X1Sg6YmEzWPD"
      },
      "source": [
        "Процент одобрения у женщин выше. https://www.evanmiller.org/ab-testing/chi-squared.html#!19822/26866;17642/23135@95\n"
      ]
    },
    {
      "cell_type": "code",
      "metadata": {
        "colab": {
          "base_uri": "https://localhost:8080/",
          "height": 166
        },
        "id": "Ilid479dtf4n",
        "outputId": "e28db4c6-db63-476c-998d-9a7034f34f7d"
      },
      "source": [
        "df.pivot_table(index='gender',values='expert',aggfunc=['count','mean'])"
      ],
      "execution_count": 34,
      "outputs": [
        {
          "output_type": "execute_result",
          "data": {
            "text/html": [
              "<div>\n",
              "<style scoped>\n",
              "    .dataframe tbody tr th:only-of-type {\n",
              "        vertical-align: middle;\n",
              "    }\n",
              "\n",
              "    .dataframe tbody tr th {\n",
              "        vertical-align: top;\n",
              "    }\n",
              "\n",
              "    .dataframe thead tr th {\n",
              "        text-align: left;\n",
              "    }\n",
              "\n",
              "    .dataframe thead tr:last-of-type th {\n",
              "        text-align: right;\n",
              "    }\n",
              "</style>\n",
              "<table border=\"1\" class=\"dataframe\">\n",
              "  <thead>\n",
              "    <tr>\n",
              "      <th></th>\n",
              "      <th>count</th>\n",
              "      <th>mean</th>\n",
              "    </tr>\n",
              "    <tr>\n",
              "      <th></th>\n",
              "      <th>expert</th>\n",
              "      <th>expert</th>\n",
              "    </tr>\n",
              "    <tr>\n",
              "      <th>gender</th>\n",
              "      <th></th>\n",
              "      <th></th>\n",
              "    </tr>\n",
              "  </thead>\n",
              "  <tbody>\n",
              "    <tr>\n",
              "      <th>0</th>\n",
              "      <td>26866</td>\n",
              "      <td>0.737810</td>\n",
              "    </tr>\n",
              "    <tr>\n",
              "      <th>1</th>\n",
              "      <td>23135</td>\n",
              "      <td>0.762568</td>\n",
              "    </tr>\n",
              "  </tbody>\n",
              "</table>\n",
              "</div>"
            ],
            "text/plain": [
              "        count      mean\n",
              "       expert    expert\n",
              "gender                 \n",
              "0       26866  0.737810\n",
              "1       23135  0.762568"
            ]
          },
          "metadata": {
            "tags": []
          },
          "execution_count": 34
        }
      ]
    },
    {
      "cell_type": "code",
      "metadata": {
        "colab": {
          "base_uri": "https://localhost:8080/",
          "height": 431
        },
        "id": "ny2q0vuxvWaj",
        "outputId": "622dcf3d-affb-4fb7-cf15-504ed40b689d"
      },
      "source": [
        "df.pivot_table(index='region',columns='gender',values='expert',aggfunc=['count','mean']).reset_index()"
      ],
      "execution_count": 38,
      "outputs": [
        {
          "output_type": "execute_result",
          "data": {
            "text/html": [
              "<div>\n",
              "<style scoped>\n",
              "    .dataframe tbody tr th:only-of-type {\n",
              "        vertical-align: middle;\n",
              "    }\n",
              "\n",
              "    .dataframe tbody tr th {\n",
              "        vertical-align: top;\n",
              "    }\n",
              "\n",
              "    .dataframe thead tr th {\n",
              "        text-align: left;\n",
              "    }\n",
              "</style>\n",
              "<table border=\"1\" class=\"dataframe\">\n",
              "  <thead>\n",
              "    <tr>\n",
              "      <th></th>\n",
              "      <th>region</th>\n",
              "      <th colspan=\"2\" halign=\"left\">count</th>\n",
              "      <th colspan=\"2\" halign=\"left\">mean</th>\n",
              "    </tr>\n",
              "    <tr>\n",
              "      <th>gender</th>\n",
              "      <th></th>\n",
              "      <th>0</th>\n",
              "      <th>1</th>\n",
              "      <th>0</th>\n",
              "      <th>1</th>\n",
              "    </tr>\n",
              "  </thead>\n",
              "  <tbody>\n",
              "    <tr>\n",
              "      <th>0</th>\n",
              "      <td>1.0</td>\n",
              "      <td>105</td>\n",
              "      <td>128</td>\n",
              "      <td>0.895238</td>\n",
              "      <td>0.851562</td>\n",
              "    </tr>\n",
              "    <tr>\n",
              "      <th>1</th>\n",
              "      <td>2.0</td>\n",
              "      <td>68</td>\n",
              "      <td>66</td>\n",
              "      <td>0.911765</td>\n",
              "      <td>0.818182</td>\n",
              "    </tr>\n",
              "    <tr>\n",
              "      <th>2</th>\n",
              "      <td>3.0</td>\n",
              "      <td>596</td>\n",
              "      <td>539</td>\n",
              "      <td>0.852349</td>\n",
              "      <td>0.831169</td>\n",
              "    </tr>\n",
              "    <tr>\n",
              "      <th>3</th>\n",
              "      <td>4.0</td>\n",
              "      <td>164</td>\n",
              "      <td>205</td>\n",
              "      <td>0.932927</td>\n",
              "      <td>0.887805</td>\n",
              "    </tr>\n",
              "    <tr>\n",
              "      <th>4</th>\n",
              "      <td>5.0</td>\n",
              "      <td>91</td>\n",
              "      <td>111</td>\n",
              "      <td>0.846154</td>\n",
              "      <td>0.837838</td>\n",
              "    </tr>\n",
              "    <tr>\n",
              "      <th>...</th>\n",
              "      <td>...</td>\n",
              "      <td>...</td>\n",
              "      <td>...</td>\n",
              "      <td>...</td>\n",
              "      <td>...</td>\n",
              "    </tr>\n",
              "    <tr>\n",
              "      <th>93</th>\n",
              "      <td>95.0</td>\n",
              "      <td>18</td>\n",
              "      <td>26</td>\n",
              "      <td>0.944444</td>\n",
              "      <td>0.923077</td>\n",
              "    </tr>\n",
              "    <tr>\n",
              "      <th>94</th>\n",
              "      <td>96.0</td>\n",
              "      <td>20</td>\n",
              "      <td>1</td>\n",
              "      <td>0.850000</td>\n",
              "      <td>1.000000</td>\n",
              "    </tr>\n",
              "    <tr>\n",
              "      <th>95</th>\n",
              "      <td>97.0</td>\n",
              "      <td>64</td>\n",
              "      <td>48</td>\n",
              "      <td>0.765625</td>\n",
              "      <td>0.895833</td>\n",
              "    </tr>\n",
              "    <tr>\n",
              "      <th>96</th>\n",
              "      <td>98.0</td>\n",
              "      <td>53</td>\n",
              "      <td>56</td>\n",
              "      <td>0.792453</td>\n",
              "      <td>0.875000</td>\n",
              "    </tr>\n",
              "    <tr>\n",
              "      <th>97</th>\n",
              "      <td>99.0</td>\n",
              "      <td>13</td>\n",
              "      <td>7</td>\n",
              "      <td>0.923077</td>\n",
              "      <td>0.857143</td>\n",
              "    </tr>\n",
              "  </tbody>\n",
              "</table>\n",
              "<p>98 rows × 5 columns</p>\n",
              "</div>"
            ],
            "text/plain": [
              "       region count           mean          \n",
              "gender            0    1         0         1\n",
              "0         1.0   105  128  0.895238  0.851562\n",
              "1         2.0    68   66  0.911765  0.818182\n",
              "2         3.0   596  539  0.852349  0.831169\n",
              "3         4.0   164  205  0.932927  0.887805\n",
              "4         5.0    91  111  0.846154  0.837838\n",
              "..        ...   ...  ...       ...       ...\n",
              "93       95.0    18   26  0.944444  0.923077\n",
              "94       96.0    20    1  0.850000  1.000000\n",
              "95       97.0    64   48  0.765625  0.895833\n",
              "96       98.0    53   56  0.792453  0.875000\n",
              "97       99.0    13    7  0.923077  0.857143\n",
              "\n",
              "[98 rows x 5 columns]"
            ]
          },
          "metadata": {
            "tags": []
          },
          "execution_count": 38
        }
      ]
    },
    {
      "cell_type": "code",
      "metadata": {
        "colab": {
          "base_uri": "https://localhost:8080/"
        },
        "id": "FhujZc8RwNR4",
        "outputId": "4fadae0e-2702-49f3-81df-9c0d8643b771"
      },
      "source": [
        "len(df)"
      ],
      "execution_count": 41,
      "outputs": [
        {
          "output_type": "execute_result",
          "data": {
            "text/plain": [
              "50001"
            ]
          },
          "metadata": {
            "tags": []
          },
          "execution_count": 41
        }
      ]
    },
    {
      "cell_type": "code",
      "metadata": {
        "colab": {
          "base_uri": "https://localhost:8080/"
        },
        "id": "9CxZ38eBvcqw",
        "outputId": "646946dc-ca6b-498d-9f94-3fd591866801"
      },
      "source": [
        "df.groupby('region',dropna=False)['gender'].count()"
      ],
      "execution_count": 43,
      "outputs": [
        {
          "output_type": "execute_result",
          "data": {
            "text/plain": [
              "region\n",
              "1.0       233\n",
              "2.0       134\n",
              "3.0      1135\n",
              "4.0       369\n",
              "5.0       202\n",
              "        ...  \n",
              "96.0       21\n",
              "97.0      112\n",
              "98.0      109\n",
              "99.0       20\n",
              "NaN     20061\n",
              "Name: gender, Length: 99, dtype: int64"
            ]
          },
          "metadata": {
            "tags": []
          },
          "execution_count": 43
        }
      ]
    },
    {
      "cell_type": "code",
      "metadata": {
        "colab": {
          "base_uri": "https://localhost:8080/"
        },
        "id": "qG7BjcOQwEjQ",
        "outputId": "5fe5d324-0a74-4966-ed22-1553c7561e8c"
      },
      "source": [
        "df.groupby('region',dropna=False)['gender'].count().sum()"
      ],
      "execution_count": 45,
      "outputs": [
        {
          "output_type": "execute_result",
          "data": {
            "text/plain": [
              "50001"
            ]
          },
          "metadata": {
            "tags": []
          },
          "execution_count": 45
        }
      ]
    },
    {
      "cell_type": "code",
      "metadata": {
        "id": "TNmHTlU_wSMG"
      },
      "source": [
        "t = df.pivot_table(index='region',values='expert',aggfunc=['count']).reset_index()"
      ],
      "execution_count": 47,
      "outputs": []
    },
    {
      "cell_type": "code",
      "metadata": {
        "colab": {
          "base_uri": "https://localhost:8080/"
        },
        "id": "Ajx5girqw6Kx",
        "outputId": "9435d2f3-ee7e-44ba-873f-6fb2fbd63db1"
      },
      "source": [
        "t['count']['expert'].sum()"
      ],
      "execution_count": 50,
      "outputs": [
        {
          "output_type": "execute_result",
          "data": {
            "text/plain": [
              "29940"
            ]
          },
          "metadata": {
            "tags": []
          },
          "execution_count": 50
        }
      ]
    },
    {
      "cell_type": "code",
      "metadata": {
        "colab": {
          "base_uri": "https://localhost:8080/"
        },
        "id": "hywlcQFSw8kK",
        "outputId": "30ff0500-6bb9-400e-d53e-448848ebba82"
      },
      "source": [
        "df.isna().mean()"
      ],
      "execution_count": 51,
      "outputs": [
        {
          "output_type": "execute_result",
          "data": {
            "text/plain": [
              "closed_cred_sum            0.000000\n",
              "closed_creds               0.000000\n",
              "active_cred_sum_overdue    0.000000\n",
              "active_cred_sum            0.000000\n",
              "active_cred_day_overdue    0.000000\n",
              "active_cred_max_overdue    0.000000\n",
              "age                        0.000000\n",
              "gender                     0.000000\n",
              "region                     0.401212\n",
              "first_loan                 0.000380\n",
              "loan_cost_all              0.000000\n",
              "first_days_quant           0.000000\n",
              "month_income               0.303434\n",
              "order_date                 0.000000\n",
              "cost_all                   0.000000\n",
              "order_id                   0.000000\n",
              "client_id                  0.000000\n",
              "expert                     0.000000\n",
              "dtype: float64"
            ]
          },
          "metadata": {
            "tags": []
          },
          "execution_count": 51
        }
      ]
    },
    {
      "cell_type": "code",
      "metadata": {
        "colab": {
          "base_uri": "https://localhost:8080/"
        },
        "id": "wE3RVPZ-xGDn",
        "outputId": "49f9c476-203d-4f61-ae9c-2deb8137ad8d"
      },
      "source": [
        "df['region'].value_counts()"
      ],
      "execution_count": 52,
      "outputs": [
        {
          "output_type": "execute_result",
          "data": {
            "text/plain": [
              "40.0    4185\n",
              "36.0    1921\n",
              "75.0    1778\n",
              "65.0    1614\n",
              "80.0    1463\n",
              "        ... \n",
              "48.0      19\n",
              "85.0      17\n",
              "43.0      16\n",
              "21.0      11\n",
              "9.0        7\n",
              "Name: region, Length: 98, dtype: int64"
            ]
          },
          "metadata": {
            "tags": []
          },
          "execution_count": 52
        }
      ]
    },
    {
      "cell_type": "code",
      "metadata": {
        "colab": {
          "base_uri": "https://localhost:8080/",
          "height": 422
        },
        "id": "FfJW1xIQxpsA",
        "outputId": "eada42ac-92a4-444d-eed3-54371f82595d"
      },
      "source": [
        "df"
      ],
      "execution_count": 54,
      "outputs": [
        {
          "output_type": "execute_result",
          "data": {
            "text/html": [
              "<div>\n",
              "<style scoped>\n",
              "    .dataframe tbody tr th:only-of-type {\n",
              "        vertical-align: middle;\n",
              "    }\n",
              "\n",
              "    .dataframe tbody tr th {\n",
              "        vertical-align: top;\n",
              "    }\n",
              "\n",
              "    .dataframe thead th {\n",
              "        text-align: right;\n",
              "    }\n",
              "</style>\n",
              "<table border=\"1\" class=\"dataframe\">\n",
              "  <thead>\n",
              "    <tr style=\"text-align: right;\">\n",
              "      <th></th>\n",
              "      <th>closed_cred_sum</th>\n",
              "      <th>closed_creds</th>\n",
              "      <th>active_cred_sum_overdue</th>\n",
              "      <th>active_cred_sum</th>\n",
              "      <th>active_cred_day_overdue</th>\n",
              "      <th>active_cred_max_overdue</th>\n",
              "      <th>age</th>\n",
              "      <th>gender</th>\n",
              "      <th>region</th>\n",
              "      <th>first_loan</th>\n",
              "      <th>loan_cost_all</th>\n",
              "      <th>first_days_quant</th>\n",
              "      <th>month_income</th>\n",
              "      <th>order_date</th>\n",
              "      <th>cost_all</th>\n",
              "      <th>order_id</th>\n",
              "      <th>client_id</th>\n",
              "      <th>expert</th>\n",
              "    </tr>\n",
              "  </thead>\n",
              "  <tbody>\n",
              "    <tr>\n",
              "      <th>0</th>\n",
              "      <td>143822.00</td>\n",
              "      <td>22</td>\n",
              "      <td>104.12</td>\n",
              "      <td>130068.80</td>\n",
              "      <td>8</td>\n",
              "      <td>756.09</td>\n",
              "      <td>31</td>\n",
              "      <td>0</td>\n",
              "      <td>36.0</td>\n",
              "      <td>10000.0</td>\n",
              "      <td>10000</td>\n",
              "      <td>196</td>\n",
              "      <td>NaN</td>\n",
              "      <td>2017-07-23</td>\n",
              "      <td>0.0</td>\n",
              "      <td>728319</td>\n",
              "      <td>320464</td>\n",
              "      <td>1</td>\n",
              "    </tr>\n",
              "    <tr>\n",
              "      <th>1</th>\n",
              "      <td>0.00</td>\n",
              "      <td>0</td>\n",
              "      <td>38151.93</td>\n",
              "      <td>46230.00</td>\n",
              "      <td>1492</td>\n",
              "      <td>38151.93</td>\n",
              "      <td>51</td>\n",
              "      <td>0</td>\n",
              "      <td>93.0</td>\n",
              "      <td>10000.0</td>\n",
              "      <td>10000</td>\n",
              "      <td>17</td>\n",
              "      <td>20000.0</td>\n",
              "      <td>2017-07-23</td>\n",
              "      <td>0.0</td>\n",
              "      <td>728321</td>\n",
              "      <td>320466</td>\n",
              "      <td>1</td>\n",
              "    </tr>\n",
              "    <tr>\n",
              "      <th>2</th>\n",
              "      <td>51356.00</td>\n",
              "      <td>2</td>\n",
              "      <td>3000.00</td>\n",
              "      <td>3000.00</td>\n",
              "      <td>8</td>\n",
              "      <td>3000.00</td>\n",
              "      <td>28</td>\n",
              "      <td>1</td>\n",
              "      <td>3.0</td>\n",
              "      <td>10000.0</td>\n",
              "      <td>10000</td>\n",
              "      <td>84</td>\n",
              "      <td>NaN</td>\n",
              "      <td>2017-07-23</td>\n",
              "      <td>0.0</td>\n",
              "      <td>728323</td>\n",
              "      <td>320467</td>\n",
              "      <td>1</td>\n",
              "    </tr>\n",
              "    <tr>\n",
              "      <th>3</th>\n",
              "      <td>0.00</td>\n",
              "      <td>0</td>\n",
              "      <td>22784.19</td>\n",
              "      <td>32103.52</td>\n",
              "      <td>913</td>\n",
              "      <td>22784.19</td>\n",
              "      <td>28</td>\n",
              "      <td>0</td>\n",
              "      <td>52.0</td>\n",
              "      <td>10000.0</td>\n",
              "      <td>10000</td>\n",
              "      <td>7</td>\n",
              "      <td>NaN</td>\n",
              "      <td>2017-07-23</td>\n",
              "      <td>0.0</td>\n",
              "      <td>728447</td>\n",
              "      <td>320533</td>\n",
              "      <td>1</td>\n",
              "    </tr>\n",
              "    <tr>\n",
              "      <th>4</th>\n",
              "      <td>12298.00</td>\n",
              "      <td>1</td>\n",
              "      <td>4942.95</td>\n",
              "      <td>4950.00</td>\n",
              "      <td>2883</td>\n",
              "      <td>4942.95</td>\n",
              "      <td>31</td>\n",
              "      <td>0</td>\n",
              "      <td>47.0</td>\n",
              "      <td>5000.0</td>\n",
              "      <td>5000</td>\n",
              "      <td>20</td>\n",
              "      <td>NaN</td>\n",
              "      <td>2017-07-23</td>\n",
              "      <td>0.0</td>\n",
              "      <td>728421</td>\n",
              "      <td>298598</td>\n",
              "      <td>1</td>\n",
              "    </tr>\n",
              "    <tr>\n",
              "      <th>...</th>\n",
              "      <td>...</td>\n",
              "      <td>...</td>\n",
              "      <td>...</td>\n",
              "      <td>...</td>\n",
              "      <td>...</td>\n",
              "      <td>...</td>\n",
              "      <td>...</td>\n",
              "      <td>...</td>\n",
              "      <td>...</td>\n",
              "      <td>...</td>\n",
              "      <td>...</td>\n",
              "      <td>...</td>\n",
              "      <td>...</td>\n",
              "      <td>...</td>\n",
              "      <td>...</td>\n",
              "      <td>...</td>\n",
              "      <td>...</td>\n",
              "      <td>...</td>\n",
              "    </tr>\n",
              "    <tr>\n",
              "      <th>49996</th>\n",
              "      <td>0.00</td>\n",
              "      <td>0</td>\n",
              "      <td>74662.61</td>\n",
              "      <td>79662.61</td>\n",
              "      <td>2593</td>\n",
              "      <td>42204.55</td>\n",
              "      <td>27</td>\n",
              "      <td>1</td>\n",
              "      <td>NaN</td>\n",
              "      <td>4000.0</td>\n",
              "      <td>4000</td>\n",
              "      <td>20</td>\n",
              "      <td>NaN</td>\n",
              "      <td>2017-08-13</td>\n",
              "      <td>0.0</td>\n",
              "      <td>759472</td>\n",
              "      <td>96091</td>\n",
              "      <td>1</td>\n",
              "    </tr>\n",
              "    <tr>\n",
              "      <th>49997</th>\n",
              "      <td>21653.49</td>\n",
              "      <td>2</td>\n",
              "      <td>0.00</td>\n",
              "      <td>0.00</td>\n",
              "      <td>0</td>\n",
              "      <td>0.00</td>\n",
              "      <td>28</td>\n",
              "      <td>0</td>\n",
              "      <td>75.0</td>\n",
              "      <td>2000.0</td>\n",
              "      <td>2000</td>\n",
              "      <td>10</td>\n",
              "      <td>20000.0</td>\n",
              "      <td>2017-08-13</td>\n",
              "      <td>0.0</td>\n",
              "      <td>759475</td>\n",
              "      <td>338240</td>\n",
              "      <td>1</td>\n",
              "    </tr>\n",
              "    <tr>\n",
              "      <th>49998</th>\n",
              "      <td>0.00</td>\n",
              "      <td>0</td>\n",
              "      <td>0.00</td>\n",
              "      <td>1000.00</td>\n",
              "      <td>0</td>\n",
              "      <td>941.00</td>\n",
              "      <td>22</td>\n",
              "      <td>0</td>\n",
              "      <td>NaN</td>\n",
              "      <td>10000.0</td>\n",
              "      <td>10000</td>\n",
              "      <td>20</td>\n",
              "      <td>35000.0</td>\n",
              "      <td>2017-08-13</td>\n",
              "      <td>0.0</td>\n",
              "      <td>759485</td>\n",
              "      <td>338246</td>\n",
              "      <td>1</td>\n",
              "    </tr>\n",
              "    <tr>\n",
              "      <th>49999</th>\n",
              "      <td>0.00</td>\n",
              "      <td>0</td>\n",
              "      <td>0.00</td>\n",
              "      <td>1000.00</td>\n",
              "      <td>0</td>\n",
              "      <td>941.00</td>\n",
              "      <td>22</td>\n",
              "      <td>0</td>\n",
              "      <td>NaN</td>\n",
              "      <td>10000.0</td>\n",
              "      <td>10000</td>\n",
              "      <td>20</td>\n",
              "      <td>35000.0</td>\n",
              "      <td>2017-08-13</td>\n",
              "      <td>0.0</td>\n",
              "      <td>759485</td>\n",
              "      <td>338246</td>\n",
              "      <td>1</td>\n",
              "    </tr>\n",
              "    <tr>\n",
              "      <th>50000</th>\n",
              "      <td>19750.00</td>\n",
              "      <td>9</td>\n",
              "      <td>14100.00</td>\n",
              "      <td>14100.00</td>\n",
              "      <td>331</td>\n",
              "      <td>6000.00</td>\n",
              "      <td>33</td>\n",
              "      <td>0</td>\n",
              "      <td>40.0</td>\n",
              "      <td>2000.0</td>\n",
              "      <td>2000</td>\n",
              "      <td>21</td>\n",
              "      <td>NaN</td>\n",
              "      <td>2017-08-13</td>\n",
              "      <td>0.0</td>\n",
              "      <td>759490</td>\n",
              "      <td>261961</td>\n",
              "      <td>1</td>\n",
              "    </tr>\n",
              "  </tbody>\n",
              "</table>\n",
              "<p>50001 rows × 18 columns</p>\n",
              "</div>"
            ],
            "text/plain": [
              "       closed_cred_sum  closed_creds  ...  client_id  expert\n",
              "0            143822.00            22  ...     320464       1\n",
              "1                 0.00             0  ...     320466       1\n",
              "2             51356.00             2  ...     320467       1\n",
              "3                 0.00             0  ...     320533       1\n",
              "4             12298.00             1  ...     298598       1\n",
              "...                ...           ...  ...        ...     ...\n",
              "49996             0.00             0  ...      96091       1\n",
              "49997         21653.49             2  ...     338240       1\n",
              "49998             0.00             0  ...     338246       1\n",
              "49999             0.00             0  ...     338246       1\n",
              "50000         19750.00             9  ...     261961       1\n",
              "\n",
              "[50001 rows x 18 columns]"
            ]
          },
          "metadata": {
            "tags": []
          },
          "execution_count": 54
        }
      ]
    },
    {
      "cell_type": "code",
      "metadata": {
        "colab": {
          "base_uri": "https://localhost:8080/"
        },
        "id": "gSbDxMzM3Keg",
        "outputId": "2cff65af-393d-49b9-8a29-ad213ceba120"
      },
      "source": [
        "len(df[df['month_income'] <= 200000]) / len(df)"
      ],
      "execution_count": 60,
      "outputs": [
        {
          "output_type": "execute_result",
          "data": {
            "text/plain": [
              "0.6964860702785944"
            ]
          },
          "metadata": {
            "tags": []
          },
          "execution_count": 60
        }
      ]
    },
    {
      "cell_type": "code",
      "metadata": {
        "colab": {
          "base_uri": "https://localhost:8080/",
          "height": 282
        },
        "id": "MtBLIeEF3RTO",
        "outputId": "c98ff131-10dd-4b8c-ec76-e6669ed7c229"
      },
      "source": [
        "df[df['month_income'] <= 200000]['month_income'].hist()"
      ],
      "execution_count": 62,
      "outputs": [
        {
          "output_type": "execute_result",
          "data": {
            "text/plain": [
              "<matplotlib.axes._subplots.AxesSubplot at 0x7f0405730390>"
            ]
          },
          "metadata": {
            "tags": []
          },
          "execution_count": 62
        },
        {
          "output_type": "display_data",
          "data": {
            "image/png": "[encoded data removed]",
            "text/plain": [
              "<Figure size 432x288 with 1 Axes>"
            ]
          },
          "metadata": {
            "tags": [],
            "needs_background": "light"
          }
        }
      ]
    },
    {
      "cell_type": "code",
      "metadata": {
        "colab": {
          "base_uri": "https://localhost:8080/"
        },
        "id": "HbHMzk5-3d2P",
        "outputId": "f3c08c25-3a39-486d-a7ec-4463f338b96d"
      },
      "source": [
        "df['month_income'].describe()"
      ],
      "execution_count": 63,
      "outputs": [
        {
          "output_type": "execute_result",
          "data": {
            "text/plain": [
              "count     34829.000000\n",
              "mean      35809.098036\n",
              "std       14941.407679\n",
              "min          18.000000\n",
              "25%       25000.000000\n",
              "50%       35000.000000\n",
              "75%       50000.000000\n",
              "max      550000.000000\n",
              "Name: month_income, dtype: float64"
            ]
          },
          "metadata": {
            "tags": []
          },
          "execution_count": 63
        }
      ]
    },
    {
      "cell_type": "code",
      "metadata": {
        "id": "LaTs7BJv35Uy"
      },
      "source": [
        "t = pd.DataFrame({'salary':[40,30,40,60,70]})"
      ],
      "execution_count": 64,
      "outputs": []
    },
    {
      "cell_type": "code",
      "metadata": {
        "colab": {
          "base_uri": "https://localhost:8080/",
          "height": 195
        },
        "id": "b0mRHd4g4DvV",
        "outputId": "f8d0b9cc-359f-4a3b-cdce-943b22c04a64"
      },
      "source": [
        "t"
      ],
      "execution_count": 65,
      "outputs": [
        {
          "output_type": "execute_result",
          "data": {
            "text/html": [
              "<div>\n",
              "<style scoped>\n",
              "    .dataframe tbody tr th:only-of-type {\n",
              "        vertical-align: middle;\n",
              "    }\n",
              "\n",
              "    .dataframe tbody tr th {\n",
              "        vertical-align: top;\n",
              "    }\n",
              "\n",
              "    .dataframe thead th {\n",
              "        text-align: right;\n",
              "    }\n",
              "</style>\n",
              "<table border=\"1\" class=\"dataframe\">\n",
              "  <thead>\n",
              "    <tr style=\"text-align: right;\">\n",
              "      <th></th>\n",
              "      <th>salary</th>\n",
              "    </tr>\n",
              "  </thead>\n",
              "  <tbody>\n",
              "    <tr>\n",
              "      <th>0</th>\n",
              "      <td>40</td>\n",
              "    </tr>\n",
              "    <tr>\n",
              "      <th>1</th>\n",
              "      <td>30</td>\n",
              "    </tr>\n",
              "    <tr>\n",
              "      <th>2</th>\n",
              "      <td>40</td>\n",
              "    </tr>\n",
              "    <tr>\n",
              "      <th>3</th>\n",
              "      <td>60</td>\n",
              "    </tr>\n",
              "    <tr>\n",
              "      <th>4</th>\n",
              "      <td>70</td>\n",
              "    </tr>\n",
              "  </tbody>\n",
              "</table>\n",
              "</div>"
            ],
            "text/plain": [
              "   salary\n",
              "0      40\n",
              "1      30\n",
              "2      40\n",
              "3      60\n",
              "4      70"
            ]
          },
          "metadata": {
            "tags": []
          },
          "execution_count": 65
        }
      ]
    },
    {
      "cell_type": "code",
      "metadata": {
        "colab": {
          "base_uri": "https://localhost:8080/"
        },
        "id": "uHwvLgnK4Gqj",
        "outputId": "869582c7-50d6-4281-befc-2440f0097475"
      },
      "source": [
        "t['salary'].mean()"
      ],
      "execution_count": 66,
      "outputs": [
        {
          "output_type": "execute_result",
          "data": {
            "text/plain": [
              "48.0"
            ]
          },
          "metadata": {
            "tags": []
          },
          "execution_count": 66
        }
      ]
    },
    {
      "cell_type": "code",
      "metadata": {
        "id": "fOZFHvEl4I1Z"
      },
      "source": [
        "t = pd.DataFrame({'salary':[40,30,40,60,70,10000000000]})"
      ],
      "execution_count": 67,
      "outputs": []
    },
    {
      "cell_type": "code",
      "metadata": {
        "colab": {
          "base_uri": "https://localhost:8080/"
        },
        "id": "PlvgMwUT4L6T",
        "outputId": "f5cb9ccc-3c90-414e-cb69-c978589aaeb4"
      },
      "source": [
        "t['salary'].mean()"
      ],
      "execution_count": 68,
      "outputs": [
        {
          "output_type": "execute_result",
          "data": {
            "text/plain": [
              "1666666706.6666667"
            ]
          },
          "metadata": {
            "tags": []
          },
          "execution_count": 68
        }
      ]
    },
    {
      "cell_type": "code",
      "metadata": {
        "colab": {
          "base_uri": "https://localhost:8080/"
        },
        "id": "kN3yOW8M4Qa_",
        "outputId": "2954555d-9021-4ffc-b816-24fbe00f1f7c"
      },
      "source": [
        "t['salary'].median()"
      ],
      "execution_count": 69,
      "outputs": [
        {
          "output_type": "execute_result",
          "data": {
            "text/plain": [
              "50.0"
            ]
          },
          "metadata": {
            "tags": []
          },
          "execution_count": 69
        }
      ]
    },
    {
      "cell_type": "code",
      "metadata": {
        "colab": {
          "base_uri": "https://localhost:8080/",
          "height": 282
        },
        "id": "fqKY8cJ92bPL",
        "outputId": "7788c57d-b7c7-43c6-8836-7ba188928a7e"
      },
      "source": [
        "df['month_income'].hist()"
      ],
      "execution_count": 58,
      "outputs": [
        {
          "output_type": "execute_result",
          "data": {
            "text/plain": [
              "<matplotlib.axes._subplots.AxesSubplot at 0x7f0406429f10>"
            ]
          },
          "metadata": {
            "tags": []
          },
          "execution_count": 58
        },
        {
          "output_type": "display_data",
          "data": {
            "image/png": "[encoded data removed]",
            "text/plain": [
              "<Figure size 432x288 with 1 Axes>"
            ]
          },
          "metadata": {
            "tags": [],
            "needs_background": "light"
          }
        }
      ]
    },
    {
      "cell_type": "code",
      "metadata": {
        "id": "MbzBx_uL4zfU"
      },
      "source": [
        "df['income_cut1'] = pd.cut(df['month_income'],5)"
      ],
      "execution_count": 76,
      "outputs": []
    },
    {
      "cell_type": "code",
      "metadata": {
        "colab": {
          "base_uri": "https://localhost:8080/",
          "height": 225
        },
        "id": "YUGEYuNs1c-x",
        "outputId": "e2fddd12-9aa6-4fa1-b5a3-dc7489a1be6f"
      },
      "source": [
        "df.groupby('income_cut1',dropna=False)['expert'].agg(['count','mean'])"
      ],
      "execution_count": 77,
      "outputs": [
        {
          "output_type": "execute_result",
          "data": {
            "text/html": [
              "<div>\n",
              "<style scoped>\n",
              "    .dataframe tbody tr th:only-of-type {\n",
              "        vertical-align: middle;\n",
              "    }\n",
              "\n",
              "    .dataframe tbody tr th {\n",
              "        vertical-align: top;\n",
              "    }\n",
              "\n",
              "    .dataframe thead th {\n",
              "        text-align: right;\n",
              "    }\n",
              "</style>\n",
              "<table border=\"1\" class=\"dataframe\">\n",
              "  <thead>\n",
              "    <tr style=\"text-align: right;\">\n",
              "      <th></th>\n",
              "      <th>count</th>\n",
              "      <th>mean</th>\n",
              "    </tr>\n",
              "    <tr>\n",
              "      <th>income_cut1</th>\n",
              "      <th></th>\n",
              "      <th></th>\n",
              "    </tr>\n",
              "  </thead>\n",
              "  <tbody>\n",
              "    <tr>\n",
              "      <th>(-531.982, 110014.4]</th>\n",
              "      <td>34785</td>\n",
              "      <td>0.668593</td>\n",
              "    </tr>\n",
              "    <tr>\n",
              "      <th>(110014.4, 220010.8]</th>\n",
              "      <td>40</td>\n",
              "      <td>0.325000</td>\n",
              "    </tr>\n",
              "    <tr>\n",
              "      <th>(220010.8, 330007.2]</th>\n",
              "      <td>1</td>\n",
              "      <td>1.000000</td>\n",
              "    </tr>\n",
              "    <tr>\n",
              "      <th>(330007.2, 440003.6]</th>\n",
              "      <td>1</td>\n",
              "      <td>1.000000</td>\n",
              "    </tr>\n",
              "    <tr>\n",
              "      <th>(440003.6, 550000.0]</th>\n",
              "      <td>2</td>\n",
              "      <td>0.500000</td>\n",
              "    </tr>\n",
              "  </tbody>\n",
              "</table>\n",
              "</div>"
            ],
            "text/plain": [
              "                      count      mean\n",
              "income_cut1                          \n",
              "(-531.982, 110014.4]  34785  0.668593\n",
              "(110014.4, 220010.8]     40  0.325000\n",
              "(220010.8, 330007.2]      1  1.000000\n",
              "(330007.2, 440003.6]      1  1.000000\n",
              "(440003.6, 550000.0]      2  0.500000"
            ]
          },
          "metadata": {
            "tags": []
          },
          "execution_count": 77
        }
      ]
    },
    {
      "cell_type": "code",
      "metadata": {
        "id": "0nMh2e3t14lG"
      },
      "source": [
        "df['income_cut2'] = pd.qcut(df['month_income'],6,duplicates='drop')"
      ],
      "execution_count": 79,
      "outputs": []
    },
    {
      "cell_type": "code",
      "metadata": {
        "colab": {
          "base_uri": "https://localhost:8080/",
          "height": 195
        },
        "id": "Ifk3D5465VQ4",
        "outputId": "e0b50507-7f4c-4979-95b7-de8dc93df573"
      },
      "source": [
        "df.groupby('income_cut2',dropna=False)['expert'].agg(['count','mean'])"
      ],
      "execution_count": 80,
      "outputs": [
        {
          "output_type": "execute_result",
          "data": {
            "text/html": [
              "<div>\n",
              "<style scoped>\n",
              "    .dataframe tbody tr th:only-of-type {\n",
              "        vertical-align: middle;\n",
              "    }\n",
              "\n",
              "    .dataframe tbody tr th {\n",
              "        vertical-align: top;\n",
              "    }\n",
              "\n",
              "    .dataframe thead th {\n",
              "        text-align: right;\n",
              "    }\n",
              "</style>\n",
              "<table border=\"1\" class=\"dataframe\">\n",
              "  <thead>\n",
              "    <tr style=\"text-align: right;\">\n",
              "      <th></th>\n",
              "      <th>count</th>\n",
              "      <th>mean</th>\n",
              "    </tr>\n",
              "    <tr>\n",
              "      <th>income_cut2</th>\n",
              "      <th></th>\n",
              "      <th></th>\n",
              "    </tr>\n",
              "  </thead>\n",
              "  <tbody>\n",
              "    <tr>\n",
              "      <th>(17.999, 20000.0]</th>\n",
              "      <td>7800</td>\n",
              "      <td>0.722949</td>\n",
              "    </tr>\n",
              "    <tr>\n",
              "      <th>(20000.0, 35000.0]</th>\n",
              "      <td>15817</td>\n",
              "      <td>0.684896</td>\n",
              "    </tr>\n",
              "    <tr>\n",
              "      <th>(35000.0, 50000.0]</th>\n",
              "      <td>8401</td>\n",
              "      <td>0.601476</td>\n",
              "    </tr>\n",
              "    <tr>\n",
              "      <th>(50000.0, 550000.0]</th>\n",
              "      <td>2811</td>\n",
              "      <td>0.621843</td>\n",
              "    </tr>\n",
              "  </tbody>\n",
              "</table>\n",
              "</div>"
            ],
            "text/plain": [
              "                     count      mean\n",
              "income_cut2                         \n",
              "(17.999, 20000.0]     7800  0.722949\n",
              "(20000.0, 35000.0]   15817  0.684896\n",
              "(35000.0, 50000.0]    8401  0.601476\n",
              "(50000.0, 550000.0]   2811  0.621843"
            ]
          },
          "metadata": {
            "tags": []
          },
          "execution_count": 80
        }
      ]
    },
    {
      "cell_type": "code",
      "metadata": {
        "colab": {
          "base_uri": "https://localhost:8080/"
        },
        "id": "AEcLMDBw5gmY",
        "outputId": "6211acd9-ba2f-4905-bf46-ea3e5f19d4a9"
      },
      "source": [
        "df['month_income'].value_counts()"
      ],
      "execution_count": 82,
      "outputs": [
        {
          "output_type": "execute_result",
          "data": {
            "text/plain": [
              "35000.0    12148\n",
              "50000.0     7297\n",
              "20000.0     5089\n",
              "60000.0     2414\n",
              "25000.0     2207\n",
              "           ...  \n",
              "12750.0        1\n",
              "35600.0        1\n",
              "98000.0        1\n",
              "12870.0        1\n",
              "18.0           1\n",
              "Name: month_income, Length: 246, dtype: int64"
            ]
          },
          "metadata": {
            "tags": []
          },
          "execution_count": 82
        }
      ]
    },
    {
      "cell_type": "code",
      "metadata": {
        "colab": {
          "base_uri": "https://localhost:8080/"
        },
        "id": "RgIVuabg6XpX",
        "outputId": "11ebd663-8e0b-43b0-e721-2e99d1674a54"
      },
      "source": [
        "10000000000000000 > np.inf"
      ],
      "execution_count": 85,
      "outputs": [
        {
          "output_type": "execute_result",
          "data": {
            "text/plain": [
              "False"
            ]
          },
          "metadata": {
            "tags": []
          },
          "execution_count": 85
        }
      ]
    },
    {
      "cell_type": "code",
      "metadata": {
        "id": "vVzsqFR8511Z"
      },
      "source": [
        "df['income_cut3'] = pd.cut(df['month_income'],[0,10000,20000,30000,40000,50000,np.inf])"
      ],
      "execution_count": 86,
      "outputs": []
    },
    {
      "cell_type": "code",
      "metadata": {
        "colab": {
          "base_uri": "https://localhost:8080/",
          "height": 254
        },
        "id": "JG4lGPIm6mnG",
        "outputId": "5e2e5d7b-ac4b-4454-9f54-afe32a44f34f"
      },
      "source": [
        "df.groupby('income_cut3',dropna=False)['expert'].agg(['count','mean'])"
      ],
      "execution_count": 87,
      "outputs": [
        {
          "output_type": "execute_result",
          "data": {
            "text/html": [
              "<div>\n",
              "<style scoped>\n",
              "    .dataframe tbody tr th:only-of-type {\n",
              "        vertical-align: middle;\n",
              "    }\n",
              "\n",
              "    .dataframe tbody tr th {\n",
              "        vertical-align: top;\n",
              "    }\n",
              "\n",
              "    .dataframe thead th {\n",
              "        text-align: right;\n",
              "    }\n",
              "</style>\n",
              "<table border=\"1\" class=\"dataframe\">\n",
              "  <thead>\n",
              "    <tr style=\"text-align: right;\">\n",
              "      <th></th>\n",
              "      <th>count</th>\n",
              "      <th>mean</th>\n",
              "    </tr>\n",
              "    <tr>\n",
              "      <th>income_cut3</th>\n",
              "      <th></th>\n",
              "      <th></th>\n",
              "    </tr>\n",
              "  </thead>\n",
              "  <tbody>\n",
              "    <tr>\n",
              "      <th>(0.0, 10000.0]</th>\n",
              "      <td>1179</td>\n",
              "      <td>0.596268</td>\n",
              "    </tr>\n",
              "    <tr>\n",
              "      <th>(10000.0, 20000.0]</th>\n",
              "      <td>6621</td>\n",
              "      <td>0.745507</td>\n",
              "    </tr>\n",
              "    <tr>\n",
              "      <th>(20000.0, 30000.0]</th>\n",
              "      <td>3543</td>\n",
              "      <td>0.410951</td>\n",
              "    </tr>\n",
              "    <tr>\n",
              "      <th>(30000.0, 40000.0]</th>\n",
              "      <td>12976</td>\n",
              "      <td>0.737438</td>\n",
              "    </tr>\n",
              "    <tr>\n",
              "      <th>(40000.0, 50000.0]</th>\n",
              "      <td>7699</td>\n",
              "      <td>0.631381</td>\n",
              "    </tr>\n",
              "    <tr>\n",
              "      <th>(50000.0, inf]</th>\n",
              "      <td>2811</td>\n",
              "      <td>0.621843</td>\n",
              "    </tr>\n",
              "  </tbody>\n",
              "</table>\n",
              "</div>"
            ],
            "text/plain": [
              "                    count      mean\n",
              "income_cut3                        \n",
              "(0.0, 10000.0]       1179  0.596268\n",
              "(10000.0, 20000.0]   6621  0.745507\n",
              "(20000.0, 30000.0]   3543  0.410951\n",
              "(30000.0, 40000.0]  12976  0.737438\n",
              "(40000.0, 50000.0]   7699  0.631381\n",
              "(50000.0, inf]       2811  0.621843"
            ]
          },
          "metadata": {
            "tags": []
          },
          "execution_count": 87
        }
      ]
    },
    {
      "cell_type": "code",
      "metadata": {
        "colab": {
          "base_uri": "https://localhost:8080/",
          "height": 362
        },
        "id": "PrLlNEZ56puz",
        "outputId": "b031c57d-297d-44aa-e228-19bab7f70837"
      },
      "source": [
        "df.groupby('income_cut3',dropna=False)['expert'].mean().plot(ylim=0,rot=45,grid=True)"
      ],
      "execution_count": 93,
      "outputs": [
        {
          "output_type": "execute_result",
          "data": {
            "text/plain": [
              "<matplotlib.axes._subplots.AxesSubplot at 0x7f040539fcd0>"
            ]
          },
          "metadata": {
            "tags": []
          },
          "execution_count": 93
        },
        {
          "output_type": "display_data",
          "data": {
            "image/png": "[encoded data removed]",
            "text/plain": [
              "<Figure size 432x288 with 1 Axes>"
            ]
          },
          "metadata": {
            "tags": [],
            "needs_background": "light"
          }
        }
      ]
    },
    {
      "cell_type": "code",
      "metadata": {
        "colab": {
          "base_uri": "https://localhost:8080/"
        },
        "id": "T0loEjUx70V2",
        "outputId": "0d06c742-9382-4c32-ae78-1307ce0a47eb"
      },
      "source": [
        "df.groupby('gender')['expert'].mean()"
      ],
      "execution_count": 95,
      "outputs": [
        {
          "output_type": "execute_result",
          "data": {
            "text/plain": [
              "gender\n",
              "0    0.737810\n",
              "1    0.762568\n",
              "Name: expert, dtype: float64"
            ]
          },
          "metadata": {
            "tags": []
          },
          "execution_count": 95
        }
      ]
    },
    {
      "cell_type": "code",
      "metadata": {
        "colab": {
          "base_uri": "https://localhost:8080/",
          "height": 297
        },
        "id": "hM0LxcpG7HNg",
        "outputId": "d45470b3-f3de-4f3b-a3bc-96677fae2001"
      },
      "source": [
        "df.groupby('gender')['expert'].mean().plot(kind='bar')"
      ],
      "execution_count": 94,
      "outputs": [
        {
          "output_type": "execute_result",
          "data": {
            "text/plain": [
              "<matplotlib.axes._subplots.AxesSubplot at 0x7f040523e3d0>"
            ]
          },
          "metadata": {
            "tags": []
          },
          "execution_count": 94
        },
        {
          "output_type": "display_data",
          "data": {
            "image/png": "[encoded data removed]",
            "text/plain": [
              "<Figure size 432x288 with 1 Axes>"
            ]
          },
          "metadata": {
            "tags": [],
            "needs_background": "light"
          }
        }
      ]
    },
    {
      "cell_type": "code",
      "metadata": {
        "colab": {
          "base_uri": "https://localhost:8080/",
          "height": 489
        },
        "id": "HSQOOset7xSs",
        "outputId": "0a901b29-139b-44ae-9722-9ebda5db33c0"
      },
      "source": [
        "df"
      ],
      "execution_count": 96,
      "outputs": [
        {
          "output_type": "execute_result",
          "data": {
            "text/html": [
              "<div>\n",
              "<style scoped>\n",
              "    .dataframe tbody tr th:only-of-type {\n",
              "        vertical-align: middle;\n",
              "    }\n",
              "\n",
              "    .dataframe tbody tr th {\n",
              "        vertical-align: top;\n",
              "    }\n",
              "\n",
              "    .dataframe thead th {\n",
              "        text-align: right;\n",
              "    }\n",
              "</style>\n",
              "<table border=\"1\" class=\"dataframe\">\n",
              "  <thead>\n",
              "    <tr style=\"text-align: right;\">\n",
              "      <th></th>\n",
              "      <th>closed_cred_sum</th>\n",
              "      <th>closed_creds</th>\n",
              "      <th>active_cred_sum_overdue</th>\n",
              "      <th>active_cred_sum</th>\n",
              "      <th>active_cred_day_overdue</th>\n",
              "      <th>active_cred_max_overdue</th>\n",
              "      <th>age</th>\n",
              "      <th>gender</th>\n",
              "      <th>region</th>\n",
              "      <th>first_loan</th>\n",
              "      <th>loan_cost_all</th>\n",
              "      <th>first_days_quant</th>\n",
              "      <th>month_income</th>\n",
              "      <th>order_date</th>\n",
              "      <th>cost_all</th>\n",
              "      <th>order_id</th>\n",
              "      <th>client_id</th>\n",
              "      <th>expert</th>\n",
              "      <th>income_cut1</th>\n",
              "      <th>income_cut2</th>\n",
              "      <th>income_cut3</th>\n",
              "    </tr>\n",
              "  </thead>\n",
              "  <tbody>\n",
              "    <tr>\n",
              "      <th>0</th>\n",
              "      <td>143822.00</td>\n",
              "      <td>22</td>\n",
              "      <td>104.12</td>\n",
              "      <td>130068.80</td>\n",
              "      <td>8</td>\n",
              "      <td>756.09</td>\n",
              "      <td>31</td>\n",
              "      <td>0</td>\n",
              "      <td>36.0</td>\n",
              "      <td>10000.0</td>\n",
              "      <td>10000</td>\n",
              "      <td>196</td>\n",
              "      <td>NaN</td>\n",
              "      <td>2017-07-23</td>\n",
              "      <td>0.0</td>\n",
              "      <td>728319</td>\n",
              "      <td>320464</td>\n",
              "      <td>1</td>\n",
              "      <td>NaN</td>\n",
              "      <td>NaN</td>\n",
              "      <td>NaN</td>\n",
              "    </tr>\n",
              "    <tr>\n",
              "      <th>1</th>\n",
              "      <td>0.00</td>\n",
              "      <td>0</td>\n",
              "      <td>38151.93</td>\n",
              "      <td>46230.00</td>\n",
              "      <td>1492</td>\n",
              "      <td>38151.93</td>\n",
              "      <td>51</td>\n",
              "      <td>0</td>\n",
              "      <td>93.0</td>\n",
              "      <td>10000.0</td>\n",
              "      <td>10000</td>\n",
              "      <td>17</td>\n",
              "      <td>20000.0</td>\n",
              "      <td>2017-07-23</td>\n",
              "      <td>0.0</td>\n",
              "      <td>728321</td>\n",
              "      <td>320466</td>\n",
              "      <td>1</td>\n",
              "      <td>(-531.982, 110014.4]</td>\n",
              "      <td>(17.999, 20000.0]</td>\n",
              "      <td>(10000.0, 20000.0]</td>\n",
              "    </tr>\n",
              "    <tr>\n",
              "      <th>2</th>\n",
              "      <td>51356.00</td>\n",
              "      <td>2</td>\n",
              "      <td>3000.00</td>\n",
              "      <td>3000.00</td>\n",
              "      <td>8</td>\n",
              "      <td>3000.00</td>\n",
              "      <td>28</td>\n",
              "      <td>1</td>\n",
              "      <td>3.0</td>\n",
              "      <td>10000.0</td>\n",
              "      <td>10000</td>\n",
              "      <td>84</td>\n",
              "      <td>NaN</td>\n",
              "      <td>2017-07-23</td>\n",
              "      <td>0.0</td>\n",
              "      <td>728323</td>\n",
              "      <td>320467</td>\n",
              "      <td>1</td>\n",
              "      <td>NaN</td>\n",
              "      <td>NaN</td>\n",
              "      <td>NaN</td>\n",
              "    </tr>\n",
              "    <tr>\n",
              "      <th>3</th>\n",
              "      <td>0.00</td>\n",
              "      <td>0</td>\n",
              "      <td>22784.19</td>\n",
              "      <td>32103.52</td>\n",
              "      <td>913</td>\n",
              "      <td>22784.19</td>\n",
              "      <td>28</td>\n",
              "      <td>0</td>\n",
              "      <td>52.0</td>\n",
              "      <td>10000.0</td>\n",
              "      <td>10000</td>\n",
              "      <td>7</td>\n",
              "      <td>NaN</td>\n",
              "      <td>2017-07-23</td>\n",
              "      <td>0.0</td>\n",
              "      <td>728447</td>\n",
              "      <td>320533</td>\n",
              "      <td>1</td>\n",
              "      <td>NaN</td>\n",
              "      <td>NaN</td>\n",
              "      <td>NaN</td>\n",
              "    </tr>\n",
              "    <tr>\n",
              "      <th>4</th>\n",
              "      <td>12298.00</td>\n",
              "      <td>1</td>\n",
              "      <td>4942.95</td>\n",
              "      <td>4950.00</td>\n",
              "      <td>2883</td>\n",
              "      <td>4942.95</td>\n",
              "      <td>31</td>\n",
              "      <td>0</td>\n",
              "      <td>47.0</td>\n",
              "      <td>5000.0</td>\n",
              "      <td>5000</td>\n",
              "      <td>20</td>\n",
              "      <td>NaN</td>\n",
              "      <td>2017-07-23</td>\n",
              "      <td>0.0</td>\n",
              "      <td>728421</td>\n",
              "      <td>298598</td>\n",
              "      <td>1</td>\n",
              "      <td>NaN</td>\n",
              "      <td>NaN</td>\n",
              "      <td>NaN</td>\n",
              "    </tr>\n",
              "    <tr>\n",
              "      <th>...</th>\n",
              "      <td>...</td>\n",
              "      <td>...</td>\n",
              "      <td>...</td>\n",
              "      <td>...</td>\n",
              "      <td>...</td>\n",
              "      <td>...</td>\n",
              "      <td>...</td>\n",
              "      <td>...</td>\n",
              "      <td>...</td>\n",
              "      <td>...</td>\n",
              "      <td>...</td>\n",
              "      <td>...</td>\n",
              "      <td>...</td>\n",
              "      <td>...</td>\n",
              "      <td>...</td>\n",
              "      <td>...</td>\n",
              "      <td>...</td>\n",
              "      <td>...</td>\n",
              "      <td>...</td>\n",
              "      <td>...</td>\n",
              "      <td>...</td>\n",
              "    </tr>\n",
              "    <tr>\n",
              "      <th>49996</th>\n",
              "      <td>0.00</td>\n",
              "      <td>0</td>\n",
              "      <td>74662.61</td>\n",
              "      <td>79662.61</td>\n",
              "      <td>2593</td>\n",
              "      <td>42204.55</td>\n",
              "      <td>27</td>\n",
              "      <td>1</td>\n",
              "      <td>NaN</td>\n",
              "      <td>4000.0</td>\n",
              "      <td>4000</td>\n",
              "      <td>20</td>\n",
              "      <td>NaN</td>\n",
              "      <td>2017-08-13</td>\n",
              "      <td>0.0</td>\n",
              "      <td>759472</td>\n",
              "      <td>96091</td>\n",
              "      <td>1</td>\n",
              "      <td>NaN</td>\n",
              "      <td>NaN</td>\n",
              "      <td>NaN</td>\n",
              "    </tr>\n",
              "    <tr>\n",
              "      <th>49997</th>\n",
              "      <td>21653.49</td>\n",
              "      <td>2</td>\n",
              "      <td>0.00</td>\n",
              "      <td>0.00</td>\n",
              "      <td>0</td>\n",
              "      <td>0.00</td>\n",
              "      <td>28</td>\n",
              "      <td>0</td>\n",
              "      <td>75.0</td>\n",
              "      <td>2000.0</td>\n",
              "      <td>2000</td>\n",
              "      <td>10</td>\n",
              "      <td>20000.0</td>\n",
              "      <td>2017-08-13</td>\n",
              "      <td>0.0</td>\n",
              "      <td>759475</td>\n",
              "      <td>338240</td>\n",
              "      <td>1</td>\n",
              "      <td>(-531.982, 110014.4]</td>\n",
              "      <td>(17.999, 20000.0]</td>\n",
              "      <td>(10000.0, 20000.0]</td>\n",
              "    </tr>\n",
              "    <tr>\n",
              "      <th>49998</th>\n",
              "      <td>0.00</td>\n",
              "      <td>0</td>\n",
              "      <td>0.00</td>\n",
              "      <td>1000.00</td>\n",
              "      <td>0</td>\n",
              "      <td>941.00</td>\n",
              "      <td>22</td>\n",
              "      <td>0</td>\n",
              "      <td>NaN</td>\n",
              "      <td>10000.0</td>\n",
              "      <td>10000</td>\n",
              "      <td>20</td>\n",
              "      <td>35000.0</td>\n",
              "      <td>2017-08-13</td>\n",
              "      <td>0.0</td>\n",
              "      <td>759485</td>\n",
              "      <td>338246</td>\n",
              "      <td>1</td>\n",
              "      <td>(-531.982, 110014.4]</td>\n",
              "      <td>(20000.0, 35000.0]</td>\n",
              "      <td>(30000.0, 40000.0]</td>\n",
              "    </tr>\n",
              "    <tr>\n",
              "      <th>49999</th>\n",
              "      <td>0.00</td>\n",
              "      <td>0</td>\n",
              "      <td>0.00</td>\n",
              "      <td>1000.00</td>\n",
              "      <td>0</td>\n",
              "      <td>941.00</td>\n",
              "      <td>22</td>\n",
              "      <td>0</td>\n",
              "      <td>NaN</td>\n",
              "      <td>10000.0</td>\n",
              "      <td>10000</td>\n",
              "      <td>20</td>\n",
              "      <td>35000.0</td>\n",
              "      <td>2017-08-13</td>\n",
              "      <td>0.0</td>\n",
              "      <td>759485</td>\n",
              "      <td>338246</td>\n",
              "      <td>1</td>\n",
              "      <td>(-531.982, 110014.4]</td>\n",
              "      <td>(20000.0, 35000.0]</td>\n",
              "      <td>(30000.0, 40000.0]</td>\n",
              "    </tr>\n",
              "    <tr>\n",
              "      <th>50000</th>\n",
              "      <td>19750.00</td>\n",
              "      <td>9</td>\n",
              "      <td>14100.00</td>\n",
              "      <td>14100.00</td>\n",
              "      <td>331</td>\n",
              "      <td>6000.00</td>\n",
              "      <td>33</td>\n",
              "      <td>0</td>\n",
              "      <td>40.0</td>\n",
              "      <td>2000.0</td>\n",
              "      <td>2000</td>\n",
              "      <td>21</td>\n",
              "      <td>NaN</td>\n",
              "      <td>2017-08-13</td>\n",
              "      <td>0.0</td>\n",
              "      <td>759490</td>\n",
              "      <td>261961</td>\n",
              "      <td>1</td>\n",
              "      <td>NaN</td>\n",
              "      <td>NaN</td>\n",
              "      <td>NaN</td>\n",
              "    </tr>\n",
              "  </tbody>\n",
              "</table>\n",
              "<p>50001 rows × 21 columns</p>\n",
              "</div>"
            ],
            "text/plain": [
              "       closed_cred_sum  closed_creds  ...         income_cut2         income_cut3\n",
              "0            143822.00            22  ...                 NaN                 NaN\n",
              "1                 0.00             0  ...   (17.999, 20000.0]  (10000.0, 20000.0]\n",
              "2             51356.00             2  ...                 NaN                 NaN\n",
              "3                 0.00             0  ...                 NaN                 NaN\n",
              "4             12298.00             1  ...                 NaN                 NaN\n",
              "...                ...           ...  ...                 ...                 ...\n",
              "49996             0.00             0  ...                 NaN                 NaN\n",
              "49997         21653.49             2  ...   (17.999, 20000.0]  (10000.0, 20000.0]\n",
              "49998             0.00             0  ...  (20000.0, 35000.0]  (30000.0, 40000.0]\n",
              "49999             0.00             0  ...  (20000.0, 35000.0]  (30000.0, 40000.0]\n",
              "50000         19750.00             9  ...                 NaN                 NaN\n",
              "\n",
              "[50001 rows x 21 columns]"
            ]
          },
          "metadata": {
            "tags": []
          },
          "execution_count": 96
        }
      ]
    },
    {
      "cell_type": "code",
      "metadata": {
        "colab": {
          "base_uri": "https://localhost:8080/",
          "height": 533
        },
        "id": "izUbi7WX8UL7",
        "outputId": "fdb034de-a275-4d77-9277-275d48fb9dd6"
      },
      "source": [
        "df.plot(x='age',y='month_income',kind='scatter',figsize=(16,9),alpha=0.4)"
      ],
      "execution_count": 108,
      "outputs": [
        {
          "output_type": "execute_result",
          "data": {
            "text/plain": [
              "<matplotlib.axes._subplots.AxesSubplot at 0x7f0404221850>"
            ]
          },
          "metadata": {
            "tags": []
          },
          "execution_count": 108
        },
        {
          "output_type": "display_data",
          "data": {
            "image/png": "[encoded data removed]",
            "text/plain": [
              "<Figure size 1152x648 with 1 Axes>"
            ]
          },
          "metadata": {
            "tags": [],
            "needs_background": "light"
          }
        }
      ]
    },
    {
      "cell_type": "code",
      "metadata": {
        "id": "J4ZfQu8E8bcD"
      },
      "source": [
        "df['age_group'] = pd.qcut(df['age'],5)"
      ],
      "execution_count": 102,
      "outputs": []
    },
    {
      "cell_type": "code",
      "metadata": {
        "colab": {
          "base_uri": "https://localhost:8080/",
          "height": 225
        },
        "id": "7yYjLZBJ9Dog",
        "outputId": "2c553c65-b825-47f6-a796-a6efa5777356"
      },
      "source": [
        "df.groupby('age_group')['month_income'].agg(['count','mean','median'])"
      ],
      "execution_count": 103,
      "outputs": [
        {
          "output_type": "execute_result",
          "data": {
            "text/html": [
              "<div>\n",
              "<style scoped>\n",
              "    .dataframe tbody tr th:only-of-type {\n",
              "        vertical-align: middle;\n",
              "    }\n",
              "\n",
              "    .dataframe tbody tr th {\n",
              "        vertical-align: top;\n",
              "    }\n",
              "\n",
              "    .dataframe thead th {\n",
              "        text-align: right;\n",
              "    }\n",
              "</style>\n",
              "<table border=\"1\" class=\"dataframe\">\n",
              "  <thead>\n",
              "    <tr style=\"text-align: right;\">\n",
              "      <th></th>\n",
              "      <th>count</th>\n",
              "      <th>mean</th>\n",
              "      <th>median</th>\n",
              "    </tr>\n",
              "    <tr>\n",
              "      <th>age_group</th>\n",
              "      <th></th>\n",
              "      <th></th>\n",
              "      <th></th>\n",
              "    </tr>\n",
              "  </thead>\n",
              "  <tbody>\n",
              "    <tr>\n",
              "      <th>(17.999, 26.0]</th>\n",
              "      <td>8661</td>\n",
              "      <td>34160.506812</td>\n",
              "      <td>35000.0</td>\n",
              "    </tr>\n",
              "    <tr>\n",
              "      <th>(26.0, 30.0]</th>\n",
              "      <td>6552</td>\n",
              "      <td>37144.971764</td>\n",
              "      <td>35000.0</td>\n",
              "    </tr>\n",
              "    <tr>\n",
              "      <th>(30.0, 35.0]</th>\n",
              "      <td>6549</td>\n",
              "      <td>38102.960910</td>\n",
              "      <td>35000.0</td>\n",
              "    </tr>\n",
              "    <tr>\n",
              "      <th>(35.0, 43.0]</th>\n",
              "      <td>6216</td>\n",
              "      <td>37684.427284</td>\n",
              "      <td>35000.0</td>\n",
              "    </tr>\n",
              "    <tr>\n",
              "      <th>(43.0, 99.0]</th>\n",
              "      <td>6851</td>\n",
              "      <td>32721.410013</td>\n",
              "      <td>35000.0</td>\n",
              "    </tr>\n",
              "  </tbody>\n",
              "</table>\n",
              "</div>"
            ],
            "text/plain": [
              "                count          mean   median\n",
              "age_group                                   \n",
              "(17.999, 26.0]   8661  34160.506812  35000.0\n",
              "(26.0, 30.0]     6552  37144.971764  35000.0\n",
              "(30.0, 35.0]     6549  38102.960910  35000.0\n",
              "(35.0, 43.0]     6216  37684.427284  35000.0\n",
              "(43.0, 99.0]     6851  32721.410013  35000.0"
            ]
          },
          "metadata": {
            "tags": []
          },
          "execution_count": 103
        }
      ]
    },
    {
      "cell_type": "code",
      "metadata": {
        "colab": {
          "base_uri": "https://localhost:8080/",
          "height": 296
        },
        "id": "0Ia5mpEk9Idx",
        "outputId": "f143603f-fb1f-4e70-dece-82af08ae24c2"
      },
      "source": [
        "df.groupby('age_group')['month_income'].mean().plot(ylim=0,grid=True)"
      ],
      "execution_count": 106,
      "outputs": [
        {
          "output_type": "execute_result",
          "data": {
            "text/plain": [
              "<matplotlib.axes._subplots.AxesSubplot at 0x7f040483a650>"
            ]
          },
          "metadata": {
            "tags": []
          },
          "execution_count": 106
        },
        {
          "output_type": "display_data",
          "data": {
            "image/png": "[encoded data removed]",
            "text/plain": [
              "<Figure size 432x288 with 1 Axes>"
            ]
          },
          "metadata": {
            "tags": [],
            "needs_background": "light"
          }
        }
      ]
    },
    {
      "cell_type": "code",
      "metadata": {
        "id": "RsrT8DqL9T_T"
      },
      "source": [
        ""
      ],
      "execution_count": null,
      "outputs": []
    }
  ]
}